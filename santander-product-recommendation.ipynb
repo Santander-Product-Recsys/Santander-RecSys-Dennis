{
 "cells": [
  {
   "cell_type": "code",
   "execution_count": 1,
   "id": "3e1c0353",
   "metadata": {},
   "outputs": [],
   "source": [
    "import numpy as np\n",
    "import pandas as pd\n",
    "\n",
    "\n",
    "#Plotting and viz\n",
    "import matplotlib.pyplot as plt\n",
    "import plotly.express as px\n",
    "import seaborn as sns\n",
    "sns.set()"
   ]
  },
  {
   "cell_type": "code",
   "execution_count": 2,
   "id": "f339dd56",
   "metadata": {},
   "outputs": [
    {
     "name": "stderr",
     "output_type": "stream",
     "text": [
      "/var/folders/jl/5_rcdjz121v7rnhqrmsz6df80000gn/T/ipykernel_27990/1192977624.py:1: DtypeWarning: Columns (5,8,11,15) have mixed types. Specify dtype option on import or set low_memory=False.\n",
      "  df_train = pd.read_csv('data/train_ver2.csv')\n"
     ]
    }
   ],
   "source": [
    "df_train = pd.read_csv('data/train_ver2.csv')"
   ]
  },
  {
   "cell_type": "code",
   "execution_count": null,
   "id": "4248be5a",
   "metadata": {},
   "outputs": [],
   "source": []
  },
  {
   "cell_type": "code",
   "execution_count": 3,
   "id": "f023afe9",
   "metadata": {},
   "outputs": [
    {
     "data": {
      "text/html": [
       "<div>\n",
       "<style scoped>\n",
       "    .dataframe tbody tr th:only-of-type {\n",
       "        vertical-align: middle;\n",
       "    }\n",
       "\n",
       "    .dataframe tbody tr th {\n",
       "        vertical-align: top;\n",
       "    }\n",
       "\n",
       "    .dataframe thead th {\n",
       "        text-align: right;\n",
       "    }\n",
       "</style>\n",
       "<table border=\"1\" class=\"dataframe\">\n",
       "  <thead>\n",
       "    <tr style=\"text-align: right;\">\n",
       "      <th></th>\n",
       "      <th>fecha_dato</th>\n",
       "      <th>ncodpers</th>\n",
       "      <th>ind_empleado</th>\n",
       "      <th>pais_residencia</th>\n",
       "      <th>sexo</th>\n",
       "      <th>age</th>\n",
       "      <th>fecha_alta</th>\n",
       "      <th>ind_nuevo</th>\n",
       "      <th>antiguedad</th>\n",
       "      <th>indrel</th>\n",
       "      <th>...</th>\n",
       "      <th>ind_hip_fin_ult1</th>\n",
       "      <th>ind_plan_fin_ult1</th>\n",
       "      <th>ind_pres_fin_ult1</th>\n",
       "      <th>ind_reca_fin_ult1</th>\n",
       "      <th>ind_tjcr_fin_ult1</th>\n",
       "      <th>ind_valo_fin_ult1</th>\n",
       "      <th>ind_viv_fin_ult1</th>\n",
       "      <th>ind_nomina_ult1</th>\n",
       "      <th>ind_nom_pens_ult1</th>\n",
       "      <th>ind_recibo_ult1</th>\n",
       "    </tr>\n",
       "  </thead>\n",
       "  <tbody>\n",
       "    <tr>\n",
       "      <th>0</th>\n",
       "      <td>2015-01-28</td>\n",
       "      <td>1375586</td>\n",
       "      <td>N</td>\n",
       "      <td>ES</td>\n",
       "      <td>H</td>\n",
       "      <td>35</td>\n",
       "      <td>2015-01-12</td>\n",
       "      <td>0.0</td>\n",
       "      <td>6</td>\n",
       "      <td>1.0</td>\n",
       "      <td>...</td>\n",
       "      <td>0</td>\n",
       "      <td>0</td>\n",
       "      <td>0</td>\n",
       "      <td>0</td>\n",
       "      <td>0</td>\n",
       "      <td>0</td>\n",
       "      <td>0</td>\n",
       "      <td>0.0</td>\n",
       "      <td>0.0</td>\n",
       "      <td>0</td>\n",
       "    </tr>\n",
       "    <tr>\n",
       "      <th>1</th>\n",
       "      <td>2015-01-28</td>\n",
       "      <td>1050611</td>\n",
       "      <td>N</td>\n",
       "      <td>ES</td>\n",
       "      <td>V</td>\n",
       "      <td>23</td>\n",
       "      <td>2012-08-10</td>\n",
       "      <td>0.0</td>\n",
       "      <td>35</td>\n",
       "      <td>1.0</td>\n",
       "      <td>...</td>\n",
       "      <td>0</td>\n",
       "      <td>0</td>\n",
       "      <td>0</td>\n",
       "      <td>0</td>\n",
       "      <td>0</td>\n",
       "      <td>0</td>\n",
       "      <td>0</td>\n",
       "      <td>0.0</td>\n",
       "      <td>0.0</td>\n",
       "      <td>0</td>\n",
       "    </tr>\n",
       "    <tr>\n",
       "      <th>2</th>\n",
       "      <td>2015-01-28</td>\n",
       "      <td>1050612</td>\n",
       "      <td>N</td>\n",
       "      <td>ES</td>\n",
       "      <td>V</td>\n",
       "      <td>23</td>\n",
       "      <td>2012-08-10</td>\n",
       "      <td>0.0</td>\n",
       "      <td>35</td>\n",
       "      <td>1.0</td>\n",
       "      <td>...</td>\n",
       "      <td>0</td>\n",
       "      <td>0</td>\n",
       "      <td>0</td>\n",
       "      <td>0</td>\n",
       "      <td>0</td>\n",
       "      <td>0</td>\n",
       "      <td>0</td>\n",
       "      <td>0.0</td>\n",
       "      <td>0.0</td>\n",
       "      <td>0</td>\n",
       "    </tr>\n",
       "    <tr>\n",
       "      <th>3</th>\n",
       "      <td>2015-01-28</td>\n",
       "      <td>1050613</td>\n",
       "      <td>N</td>\n",
       "      <td>ES</td>\n",
       "      <td>H</td>\n",
       "      <td>22</td>\n",
       "      <td>2012-08-10</td>\n",
       "      <td>0.0</td>\n",
       "      <td>35</td>\n",
       "      <td>1.0</td>\n",
       "      <td>...</td>\n",
       "      <td>0</td>\n",
       "      <td>0</td>\n",
       "      <td>0</td>\n",
       "      <td>0</td>\n",
       "      <td>0</td>\n",
       "      <td>0</td>\n",
       "      <td>0</td>\n",
       "      <td>0.0</td>\n",
       "      <td>0.0</td>\n",
       "      <td>0</td>\n",
       "    </tr>\n",
       "    <tr>\n",
       "      <th>4</th>\n",
       "      <td>2015-01-28</td>\n",
       "      <td>1050614</td>\n",
       "      <td>N</td>\n",
       "      <td>ES</td>\n",
       "      <td>V</td>\n",
       "      <td>23</td>\n",
       "      <td>2012-08-10</td>\n",
       "      <td>0.0</td>\n",
       "      <td>35</td>\n",
       "      <td>1.0</td>\n",
       "      <td>...</td>\n",
       "      <td>0</td>\n",
       "      <td>0</td>\n",
       "      <td>0</td>\n",
       "      <td>0</td>\n",
       "      <td>0</td>\n",
       "      <td>0</td>\n",
       "      <td>0</td>\n",
       "      <td>0.0</td>\n",
       "      <td>0.0</td>\n",
       "      <td>0</td>\n",
       "    </tr>\n",
       "  </tbody>\n",
       "</table>\n",
       "<p>5 rows × 48 columns</p>\n",
       "</div>"
      ],
      "text/plain": [
       "   fecha_dato  ncodpers ind_empleado pais_residencia sexo  age  fecha_alta  \\\n",
       "0  2015-01-28   1375586            N              ES    H   35  2015-01-12   \n",
       "1  2015-01-28   1050611            N              ES    V   23  2012-08-10   \n",
       "2  2015-01-28   1050612            N              ES    V   23  2012-08-10   \n",
       "3  2015-01-28   1050613            N              ES    H   22  2012-08-10   \n",
       "4  2015-01-28   1050614            N              ES    V   23  2012-08-10   \n",
       "\n",
       "   ind_nuevo antiguedad  indrel  ... ind_hip_fin_ult1 ind_plan_fin_ult1  \\\n",
       "0        0.0          6     1.0  ...                0                 0   \n",
       "1        0.0         35     1.0  ...                0                 0   \n",
       "2        0.0         35     1.0  ...                0                 0   \n",
       "3        0.0         35     1.0  ...                0                 0   \n",
       "4        0.0         35     1.0  ...                0                 0   \n",
       "\n",
       "  ind_pres_fin_ult1 ind_reca_fin_ult1 ind_tjcr_fin_ult1 ind_valo_fin_ult1  \\\n",
       "0                 0                 0                 0                 0   \n",
       "1                 0                 0                 0                 0   \n",
       "2                 0                 0                 0                 0   \n",
       "3                 0                 0                 0                 0   \n",
       "4                 0                 0                 0                 0   \n",
       "\n",
       "  ind_viv_fin_ult1 ind_nomina_ult1  ind_nom_pens_ult1  ind_recibo_ult1  \n",
       "0                0             0.0                0.0                0  \n",
       "1                0             0.0                0.0                0  \n",
       "2                0             0.0                0.0                0  \n",
       "3                0             0.0                0.0                0  \n",
       "4                0             0.0                0.0                0  \n",
       "\n",
       "[5 rows x 48 columns]"
      ]
     },
     "execution_count": 3,
     "metadata": {},
     "output_type": "execute_result"
    }
   ],
   "source": [
    "df_train.head()"
   ]
  },
  {
   "cell_type": "markdown",
   "id": "9a1cdcde",
   "metadata": {},
   "source": [
    "### Data Overview"
   ]
  },
  {
   "cell_type": "code",
   "execution_count": 4,
   "id": "878e15ff",
   "metadata": {},
   "outputs": [
    {
     "name": "stdout",
     "output_type": "stream",
     "text": [
      "The Dataset contains 13647309 Recrods and 48 columns\n"
     ]
    }
   ],
   "source": [
    "print(f\"The Dataset contains {df_train.shape[0]} Recrods and {df_train.shape[1]} columns\")"
   ]
  },
  {
   "cell_type": "code",
   "execution_count": 5,
   "id": "281eb870",
   "metadata": {},
   "outputs": [
    {
     "name": "stdout",
     "output_type": "stream",
     "text": [
      "The datatypes are\n"
     ]
    },
    {
     "data": {
      "text/plain": [
       "fecha_dato                object\n",
       "ncodpers                   int64\n",
       "ind_empleado              object\n",
       "pais_residencia           object\n",
       "sexo                      object\n",
       "age                       object\n",
       "fecha_alta                object\n",
       "ind_nuevo                float64\n",
       "antiguedad                object\n",
       "indrel                   float64\n",
       "ult_fec_cli_1t            object\n",
       "indrel_1mes               object\n",
       "tiprel_1mes               object\n",
       "indresi                   object\n",
       "indext                    object\n",
       "conyuemp                  object\n",
       "canal_entrada             object\n",
       "indfall                   object\n",
       "tipodom                  float64\n",
       "cod_prov                 float64\n",
       "nomprov                   object\n",
       "ind_actividad_cliente    float64\n",
       "renta                    float64\n",
       "segmento                  object\n",
       "ind_ahor_fin_ult1          int64\n",
       "ind_aval_fin_ult1          int64\n",
       "ind_cco_fin_ult1           int64\n",
       "ind_cder_fin_ult1          int64\n",
       "ind_cno_fin_ult1           int64\n",
       "ind_ctju_fin_ult1          int64\n",
       "ind_ctma_fin_ult1          int64\n",
       "ind_ctop_fin_ult1          int64\n",
       "ind_ctpp_fin_ult1          int64\n",
       "ind_deco_fin_ult1          int64\n",
       "ind_deme_fin_ult1          int64\n",
       "ind_dela_fin_ult1          int64\n",
       "ind_ecue_fin_ult1          int64\n",
       "ind_fond_fin_ult1          int64\n",
       "ind_hip_fin_ult1           int64\n",
       "ind_plan_fin_ult1          int64\n",
       "ind_pres_fin_ult1          int64\n",
       "ind_reca_fin_ult1          int64\n",
       "ind_tjcr_fin_ult1          int64\n",
       "ind_valo_fin_ult1          int64\n",
       "ind_viv_fin_ult1           int64\n",
       "ind_nomina_ult1          float64\n",
       "ind_nom_pens_ult1        float64\n",
       "ind_recibo_ult1            int64\n",
       "dtype: object"
      ]
     },
     "execution_count": 5,
     "metadata": {},
     "output_type": "execute_result"
    }
   ],
   "source": [
    "print(\"The datatypes are\")\n",
    "df_train.dtypes"
   ]
  },
  {
   "cell_type": "code",
   "execution_count": 6,
   "id": "1aa98915",
   "metadata": {},
   "outputs": [
    {
     "name": "stdout",
     "output_type": "stream",
     "text": [
      "The columns which are having more than 50 percent of Null Values : \n"
     ]
    },
    {
     "data": {
      "text/plain": [
       "ult_fec_cli_1t    99.818330\n",
       "conyuemp          99.986752\n",
       "dtype: float64"
      ]
     },
     "execution_count": 6,
     "metadata": {},
     "output_type": "execute_result"
    }
   ],
   "source": [
    "missing_value_percentage = df_train.isnull().sum()/len(df_train) * 100\n",
    "higher_missing_values = missing_value_percentage[missing_value_percentage > 50]\n",
    "print(\"The columns which are having more than 50 percent of Null Values : \")\n",
    "higher_missing_values"
   ]
  },
  {
   "cell_type": "code",
   "execution_count": 7,
   "id": "b9862ac0",
   "metadata": {},
   "outputs": [
    {
     "name": "stdout",
     "output_type": "stream",
     "text": [
      "Total Missing values\n"
     ]
    },
    {
     "data": {
      "image/png": "[encoded data removed]",
      "text/plain": [
       "<Figure size 1000x600 with 1 Axes>"
      ]
     },
     "metadata": {},
     "output_type": "display_data"
    }
   ],
   "source": [
    "print(\"Total Missing values\")\n",
    "import matplotlib.pyplot as plt\n",
    "import seaborn as sns\n",
    "sns.set\n",
    "\n",
    "missing_value_percentage = missing_value_percentage.sort_values(ascending=False)\n",
    "plt.figure(figsize=(10, 6))\n",
    "sns.barplot(x=missing_value_percentage.index,y=missing_value_percentage.values)\n",
    "plt.xticks(rotation = 90)\n",
    "plt.title(\"Analysis of Missing Values\")\n",
    "plt.ylabel(\"Percentage of Missing values\")\n",
    "plt.xlabel(\"Columns\")\n",
    "plt.show()"
   ]
  },
  {
   "cell_type": "code",
   "execution_count": 8,
   "id": "3bcb34ae",
   "metadata": {},
   "outputs": [
    {
     "name": "stdout",
     "output_type": "stream",
     "text": [
      "After Removing the columns\n",
      "<class 'pandas.core.frame.DataFrame'>\n",
      "RangeIndex: 13647309 entries, 0 to 13647308\n",
      "Data columns (total 46 columns):\n",
      " #   Column                 Dtype  \n",
      "---  ------                 -----  \n",
      " 0   fecha_dato             object \n",
      " 1   ncodpers               int64  \n",
      " 2   ind_empleado           object \n",
      " 3   pais_residencia        object \n",
      " 4   sexo                   object \n",
      " 5   age                    object \n",
      " 6   fecha_alta             object \n",
      " 7   ind_nuevo              float64\n",
      " 8   antiguedad             object \n",
      " 9   indrel                 float64\n",
      " 10  indrel_1mes            object \n",
      " 11  tiprel_1mes            object \n",
      " 12  indresi                object \n",
      " 13  indext                 object \n",
      " 14  canal_entrada          object \n",
      " 15  indfall                object \n",
      " 16  tipodom                float64\n",
      " 17  cod_prov               float64\n",
      " 18  nomprov                object \n",
      " 19  ind_actividad_cliente  float64\n",
      " 20  renta                  float64\n",
      " 21  segmento               object \n",
      " 22  ind_ahor_fin_ult1      int64  \n",
      " 23  ind_aval_fin_ult1      int64  \n",
      " 24  ind_cco_fin_ult1       int64  \n",
      " 25  ind_cder_fin_ult1      int64  \n",
      " 26  ind_cno_fin_ult1       int64  \n",
      " 27  ind_ctju_fin_ult1      int64  \n",
      " 28  ind_ctma_fin_ult1      int64  \n",
      " 29  ind_ctop_fin_ult1      int64  \n",
      " 30  ind_ctpp_fin_ult1      int64  \n",
      " 31  ind_deco_fin_ult1      int64  \n",
      " 32  ind_deme_fin_ult1      int64  \n",
      " 33  ind_dela_fin_ult1      int64  \n",
      " 34  ind_ecue_fin_ult1      int64  \n",
      " 35  ind_fond_fin_ult1      int64  \n",
      " 36  ind_hip_fin_ult1       int64  \n",
      " 37  ind_plan_fin_ult1      int64  \n",
      " 38  ind_pres_fin_ult1      int64  \n",
      " 39  ind_reca_fin_ult1      int64  \n",
      " 40  ind_tjcr_fin_ult1      int64  \n",
      " 41  ind_valo_fin_ult1      int64  \n",
      " 42  ind_viv_fin_ult1       int64  \n",
      " 43  ind_nomina_ult1        float64\n",
      " 44  ind_nom_pens_ult1      float64\n",
      " 45  ind_recibo_ult1        int64  \n",
      "dtypes: float64(8), int64(23), object(15)\n",
      "memory usage: 4.7+ GB\n"
     ]
    }
   ],
   "source": [
    "#Drop those columns which are almost entirely null\n",
    "cols_to_drop = ['ult_fec_cli_1t','conyuemp']\n",
    "df_train.drop(columns = cols_to_drop,inplace=True)\n",
    "\n",
    "print(\"After Removing the columns\")\n",
    "df_train.info()"
   ]
  },
  {
   "cell_type": "code",
   "execution_count": 9,
   "id": "d19c1491",
   "metadata": {},
   "outputs": [],
   "source": [
    "def compute_missing_values(df):\n",
    "    missing_values = df.isnull().sum()\n",
    "    missing_values = missing_values[missing_values > 0]\n",
    "    missing_values = missing_values.sort_values(ascending=False)\n",
    "\n",
    "    return missing_values"
   ]
  },
  {
   "cell_type": "code",
   "execution_count": 10,
   "id": "faeef707",
   "metadata": {},
   "outputs": [
    {
     "data": {
      "image/png": "[encoded data removed]",
      "text/plain": [
       "<Figure size 1000x600 with 1 Axes>"
      ]
     },
     "metadata": {},
     "output_type": "display_data"
    },
    {
     "name": "stdout",
     "output_type": "stream",
     "text": [
      "renta                    20.475648\n",
      "segmento                  1.387585\n",
      "canal_entrada             1.363829\n",
      "indrel_1mes               1.097513\n",
      "tiprel_1mes               1.097513\n",
      "nomprov                   0.685784\n",
      "cod_prov                  0.685784\n",
      "sexo                      0.203732\n",
      "tipodom                   0.203227\n",
      "indfall                   0.203220\n",
      "ind_actividad_cliente     0.203220\n",
      "ind_empleado              0.203220\n",
      "pais_residencia           0.203220\n",
      "indext                    0.203220\n",
      "indresi                   0.203220\n",
      "indrel                    0.203220\n",
      "ind_nuevo                 0.203220\n",
      "fecha_alta                0.203220\n",
      "ind_nomina_ult1           0.117701\n",
      "ind_nom_pens_ult1         0.117701\n",
      "dtype: float64\n"
     ]
    }
   ],
   "source": [
    "missing_value_percentage = df_train.isnull().sum()/len(df_train) * 100\n",
    "\n",
    "missing_value_percentage = missing_value_percentage[missing_value_percentage > 0]\n",
    "missing_value_percentage = missing_value_percentage.sort_values(ascending=False)\n",
    "\n",
    "plt.figure(figsize = (10,6))\n",
    "sns.barplot(x=missing_value_percentage.index,y=missing_value_percentage.values)\n",
    "plt.xticks(rotation = 90)\n",
    "plt.title(\"Missing Value Details\")\n",
    "plt.ylabel(\"Percentage of Values (%)\")\n",
    "plt.xlabel(\"Coumns\")\n",
    "plt.show()\n",
    "\n",
    "print(missing_value_percentage.T)"
   ]
  },
  {
   "cell_type": "code",
   "execution_count": 11,
   "id": "33bab1be",
   "metadata": {},
   "outputs": [
    {
     "name": "stdout",
     "output_type": "stream",
     "text": [
      "27734\n"
     ]
    }
   ],
   "source": [
    "#Age column is of type object, converting it to numeric\n",
    "df_train['age'] = df_train['age'].replace(' NA', np.nan) # Replace ' NA' strings with NaN\n",
    "\n",
    "#As we did not consider this while analysing missing values\n",
    "print(df_train['age'].isnull().sum())\n",
    "\n",
    "#Converting Age to float for further analysis\n",
    "df_train['age'] = df_train['age'].astype(float)"
   ]
  },
  {
   "cell_type": "code",
   "execution_count": 12,
   "id": "1c5bba5c",
   "metadata": {},
   "outputs": [
    {
     "data": {
      "text/plain": [
       "956645"
      ]
     },
     "execution_count": 12,
     "metadata": {},
     "output_type": "execute_result"
    }
   ],
   "source": [
    "#Number of unique customer is the Dataset\n",
    "df_train['ncodpers'].nunique()"
   ]
  },
  {
   "cell_type": "code",
   "execution_count": 13,
   "id": "48f70237",
   "metadata": {},
   "outputs": [],
   "source": [
    "#Numerical Analysis of the columns\n",
    "product_columns = [col for col in df_train.columns if col.endswith('ult1')] #Removing the product columns since values are 0 or 1\n",
    "df_train_subset = df_train.drop(columns = product_columns,axis=1)"
   ]
  },
  {
   "cell_type": "code",
   "execution_count": 15,
   "id": "738f6535",
   "metadata": {},
   "outputs": [
    {
     "data": {
      "text/html": [
       "<div>\n",
       "<style scoped>\n",
       "    .dataframe tbody tr th:only-of-type {\n",
       "        vertical-align: middle;\n",
       "    }\n",
       "\n",
       "    .dataframe tbody tr th {\n",
       "        vertical-align: top;\n",
       "    }\n",
       "\n",
       "    .dataframe thead th {\n",
       "        text-align: right;\n",
       "    }\n",
       "</style>\n",
       "<table border=\"1\" class=\"dataframe\">\n",
       "  <thead>\n",
       "    <tr style=\"text-align: right;\">\n",
       "      <th></th>\n",
       "      <th>count</th>\n",
       "      <th>mean</th>\n",
       "      <th>std</th>\n",
       "      <th>min</th>\n",
       "      <th>25%</th>\n",
       "      <th>50%</th>\n",
       "      <th>75%</th>\n",
       "      <th>max</th>\n",
       "    </tr>\n",
       "  </thead>\n",
       "  <tbody>\n",
       "    <tr>\n",
       "      <th>ncodpers</th>\n",
       "      <td>13647309.0</td>\n",
       "      <td>834904.211501</td>\n",
       "      <td>431565.025784</td>\n",
       "      <td>15889.00</td>\n",
       "      <td>452813.00</td>\n",
       "      <td>931893.0</td>\n",
       "      <td>1199286.00</td>\n",
       "      <td>1553689.00</td>\n",
       "    </tr>\n",
       "    <tr>\n",
       "      <th>age</th>\n",
       "      <td>13619575.0</td>\n",
       "      <td>40.181465</td>\n",
       "      <td>17.185087</td>\n",
       "      <td>2.00</td>\n",
       "      <td>24.00</td>\n",
       "      <td>39.0</td>\n",
       "      <td>50.00</td>\n",
       "      <td>164.00</td>\n",
       "    </tr>\n",
       "    <tr>\n",
       "      <th>ind_nuevo</th>\n",
       "      <td>13619575.0</td>\n",
       "      <td>0.059562</td>\n",
       "      <td>0.236673</td>\n",
       "      <td>0.00</td>\n",
       "      <td>0.00</td>\n",
       "      <td>0.0</td>\n",
       "      <td>0.00</td>\n",
       "      <td>1.00</td>\n",
       "    </tr>\n",
       "    <tr>\n",
       "      <th>indrel</th>\n",
       "      <td>13619575.0</td>\n",
       "      <td>1.178399</td>\n",
       "      <td>4.177469</td>\n",
       "      <td>1.00</td>\n",
       "      <td>1.00</td>\n",
       "      <td>1.0</td>\n",
       "      <td>1.00</td>\n",
       "      <td>99.00</td>\n",
       "    </tr>\n",
       "    <tr>\n",
       "      <th>tipodom</th>\n",
       "      <td>13619574.0</td>\n",
       "      <td>1.000000</td>\n",
       "      <td>0.000000</td>\n",
       "      <td>1.00</td>\n",
       "      <td>1.00</td>\n",
       "      <td>1.0</td>\n",
       "      <td>1.00</td>\n",
       "      <td>1.00</td>\n",
       "    </tr>\n",
       "    <tr>\n",
       "      <th>cod_prov</th>\n",
       "      <td>13553718.0</td>\n",
       "      <td>26.571470</td>\n",
       "      <td>12.784017</td>\n",
       "      <td>1.00</td>\n",
       "      <td>15.00</td>\n",
       "      <td>28.0</td>\n",
       "      <td>35.00</td>\n",
       "      <td>52.00</td>\n",
       "    </tr>\n",
       "    <tr>\n",
       "      <th>ind_actividad_cliente</th>\n",
       "      <td>13619575.0</td>\n",
       "      <td>0.457811</td>\n",
       "      <td>0.498217</td>\n",
       "      <td>0.00</td>\n",
       "      <td>0.00</td>\n",
       "      <td>0.0</td>\n",
       "      <td>1.00</td>\n",
       "      <td>1.00</td>\n",
       "    </tr>\n",
       "    <tr>\n",
       "      <th>renta</th>\n",
       "      <td>10852934.0</td>\n",
       "      <td>134254.318238</td>\n",
       "      <td>230620.238822</td>\n",
       "      <td>1202.73</td>\n",
       "      <td>68710.98</td>\n",
       "      <td>101850.0</td>\n",
       "      <td>155955.96</td>\n",
       "      <td>28894395.51</td>\n",
       "    </tr>\n",
       "  </tbody>\n",
       "</table>\n",
       "</div>"
      ],
      "text/plain": [
       "                            count           mean            std       min  \\\n",
       "ncodpers               13647309.0  834904.211501  431565.025784  15889.00   \n",
       "age                    13619575.0      40.181465      17.185087      2.00   \n",
       "ind_nuevo              13619575.0       0.059562       0.236673      0.00   \n",
       "indrel                 13619575.0       1.178399       4.177469      1.00   \n",
       "tipodom                13619574.0       1.000000       0.000000      1.00   \n",
       "cod_prov               13553718.0      26.571470      12.784017      1.00   \n",
       "ind_actividad_cliente  13619575.0       0.457811       0.498217      0.00   \n",
       "renta                  10852934.0  134254.318238  230620.238822   1202.73   \n",
       "\n",
       "                             25%       50%         75%          max  \n",
       "ncodpers               452813.00  931893.0  1199286.00   1553689.00  \n",
       "age                        24.00      39.0       50.00       164.00  \n",
       "ind_nuevo                   0.00       0.0        0.00         1.00  \n",
       "indrel                      1.00       1.0        1.00        99.00  \n",
       "tipodom                     1.00       1.0        1.00         1.00  \n",
       "cod_prov                   15.00      28.0       35.00        52.00  \n",
       "ind_actividad_cliente       0.00       0.0        1.00         1.00  \n",
       "renta                   68710.98  101850.0   155955.96  28894395.51  "
      ]
     },
     "execution_count": 15,
     "metadata": {},
     "output_type": "execute_result"
    }
   ],
   "source": [
    "df_train_subset.describe().T"
   ]
  },
  {
   "cell_type": "code",
   "execution_count": 16,
   "id": "6d9c43a2",
   "metadata": {},
   "outputs": [
    {
     "name": "stdout",
     "output_type": "stream",
     "text": [
      "Index(['ncodpers', 'age', 'ind_nuevo', 'indrel', 'tipodom', 'cod_prov',\n",
      "       'ind_actividad_cliente', 'renta'],\n",
      "      dtype='object')\n"
     ]
    }
   ],
   "source": [
    "numerical_columns = df_train_subset.select_dtypes(include=np.number).columns\n",
    "print(numerical_columns)"
   ]
  },
  {
   "cell_type": "markdown",
   "id": "f4c736bd",
   "metadata": {},
   "source": [
    "### Data Imputing"
   ]
  },
  {
   "cell_type": "code",
   "execution_count": 17,
   "id": "d0b74256",
   "metadata": {},
   "outputs": [
    {
     "name": "stdout",
     "output_type": "stream",
     "text": [
      "<class 'pandas.core.frame.DataFrame'>\n",
      "RangeIndex: 13647309 entries, 0 to 13647308\n",
      "Data columns (total 46 columns):\n",
      " #   Column                 Dtype  \n",
      "---  ------                 -----  \n",
      " 0   fecha_dato             object \n",
      " 1   ncodpers               int64  \n",
      " 2   ind_empleado           object \n",
      " 3   pais_residencia        object \n",
      " 4   sexo                   object \n",
      " 5   age                    float64\n",
      " 6   fecha_alta             object \n",
      " 7   ind_nuevo              float64\n",
      " 8   antiguedad             object \n",
      " 9   indrel                 float64\n",
      " 10  indrel_1mes            object \n",
      " 11  tiprel_1mes            object \n",
      " 12  indresi                object \n",
      " 13  indext                 object \n",
      " 14  canal_entrada          object \n",
      " 15  indfall                object \n",
      " 16  tipodom                float64\n",
      " 17  cod_prov               float64\n",
      " 18  nomprov                object \n",
      " 19  ind_actividad_cliente  float64\n",
      " 20  renta                  float64\n",
      " 21  segmento               object \n",
      " 22  ind_ahor_fin_ult1      int64  \n",
      " 23  ind_aval_fin_ult1      int64  \n",
      " 24  ind_cco_fin_ult1       int64  \n",
      " 25  ind_cder_fin_ult1      int64  \n",
      " 26  ind_cno_fin_ult1       int64  \n",
      " 27  ind_ctju_fin_ult1      int64  \n",
      " 28  ind_ctma_fin_ult1      int64  \n",
      " 29  ind_ctop_fin_ult1      int64  \n",
      " 30  ind_ctpp_fin_ult1      int64  \n",
      " 31  ind_deco_fin_ult1      int64  \n",
      " 32  ind_deme_fin_ult1      int64  \n",
      " 33  ind_dela_fin_ult1      int64  \n",
      " 34  ind_ecue_fin_ult1      int64  \n",
      " 35  ind_fond_fin_ult1      int64  \n",
      " 36  ind_hip_fin_ult1       int64  \n",
      " 37  ind_plan_fin_ult1      int64  \n",
      " 38  ind_pres_fin_ult1      int64  \n",
      " 39  ind_reca_fin_ult1      int64  \n",
      " 40  ind_tjcr_fin_ult1      int64  \n",
      " 41  ind_valo_fin_ult1      int64  \n",
      " 42  ind_viv_fin_ult1       int64  \n",
      " 43  ind_nomina_ult1        float64\n",
      " 44  ind_nom_pens_ult1      float64\n",
      " 45  ind_recibo_ult1        int64  \n",
      "dtypes: float64(9), int64(23), object(14)\n",
      "memory usage: 4.7+ GB\n"
     ]
    }
   ],
   "source": [
    "df_train.info()"
   ]
  },
  {
   "cell_type": "code",
   "execution_count": 18,
   "id": "ad45cf12",
   "metadata": {},
   "outputs": [
    {
     "data": {
      "text/plain": [
       "0"
      ]
     },
     "execution_count": 18,
     "metadata": {},
     "output_type": "execute_result"
    }
   ],
   "source": [
    "df_train['segmento'] = df_train['segmento'].fillna(df_train['segmento'].mode()[0])\n",
    "df_train['segmento'].isnull().sum()"
   ]
  },
  {
   "cell_type": "code",
   "execution_count": 19,
   "id": "5806c006",
   "metadata": {},
   "outputs": [],
   "source": [
    "segment_labels = {\n",
    "    '01 - TOP': 'VIP',\n",
    "    '02 - PARTICULARES': 'Individuals',\n",
    "    '03 - UNIVERSITARIO': 'College Students'\n",
    "}\n",
    "df_vip_customer_list = df_train[df_train['segmento'] == '01 - TOP']\n"
   ]
  },
  {
   "cell_type": "code",
   "execution_count": 20,
   "id": "9b283192",
   "metadata": {},
   "outputs": [],
   "source": [
    "df_regular_customer_list = df_train[df_train['segmento']=='02 - PARTICULARES']\n",
    "df_student_customer_list =df_train[df_train['segmento']=='03 - UNIVERSITARIO']"
   ]
  },
  {
   "cell_type": "code",
   "execution_count": 21,
   "id": "2c290533",
   "metadata": {},
   "outputs": [
    {
     "name": "stdout",
     "output_type": "stream",
     "text": [
      "Total Records in VIP List : 562142\n"
     ]
    },
    {
     "data": {
      "text/plain": [
       "renta                82367\n",
       "cod_prov              3741\n",
       "nomprov               3741\n",
       "canal_entrada           16\n",
       "ind_nomina_ult1          5\n",
       "ind_nom_pens_ult1        5\n",
       "dtype: int64"
      ]
     },
     "execution_count": 21,
     "metadata": {},
     "output_type": "execute_result"
    }
   ],
   "source": [
    "print(f\"Total Records in VIP List : {df_vip_customer_list.shape[0]}\")\n",
    "missing_vip_values = compute_missing_values(df_vip_customer_list)\n",
    "missing_vip_values"
   ]
  },
  {
   "cell_type": "code",
   "execution_count": 22,
   "id": "a02ca194",
   "metadata": {},
   "outputs": [
    {
     "name": "stdout",
     "output_type": "stream",
     "text": [
      "Total Records in Regular Customer List : 8149588\n"
     ]
    },
    {
     "data": {
      "text/plain": [
       "renta                    1569877\n",
       "canal_entrada             185970\n",
       "indrel_1mes               149772\n",
       "tiprel_1mes               149772\n",
       "nomprov                    85098\n",
       "cod_prov                   85098\n",
       "sexo                       27804\n",
       "tipodom                    27735\n",
       "ind_empleado               27734\n",
       "ind_actividad_cliente      27734\n",
       "indfall                    27734\n",
       "indext                     27734\n",
       "pais_residencia            27734\n",
       "indresi                    27734\n",
       "indrel                     27734\n",
       "ind_nuevo                  27734\n",
       "fecha_alta                 27734\n",
       "age                        27734\n",
       "ind_nomina_ult1            16042\n",
       "ind_nom_pens_ult1          16042\n",
       "dtype: int64"
      ]
     },
     "execution_count": 22,
     "metadata": {},
     "output_type": "execute_result"
    }
   ],
   "source": [
    "print(f\"Total Records in Regular Customer List : {df_regular_customer_list.shape[0]}\")\n",
    "missing_regular_values = compute_missing_values(df_regular_customer_list)\n",
    "missing_regular_values"
   ]
  },
  {
   "cell_type": "code",
   "execution_count": 23,
   "id": "75f076bd",
   "metadata": {},
   "outputs": [
    {
     "name": "stdout",
     "output_type": "stream",
     "text": [
      "Total Records in Student Customer List: 4935579\n"
     ]
    },
    {
     "data": {
      "text/plain": [
       "renta                1142131\n",
       "cod_prov                4752\n",
       "nomprov                 4752\n",
       "canal_entrada            140\n",
       "ind_nomina_ult1           16\n",
       "ind_nom_pens_ult1         16\n",
       "indrel_1mes                9\n",
       "tiprel_1mes                9\n",
       "dtype: int64"
      ]
     },
     "execution_count": 23,
     "metadata": {},
     "output_type": "execute_result"
    }
   ],
   "source": [
    "print(f\"Total Records in Student Customer List: {df_student_customer_list.shape[0]}\")\n",
    "missing_student_values = compute_missing_values(df_student_customer_list)\n",
    "missing_student_values"
   ]
  },
  {
   "cell_type": "markdown",
   "id": "76d376f7",
   "metadata": {},
   "source": [
    "### Methods to deal with the Null Values\n",
    "\n",
    "**Option 1:**\n",
    "\n",
    "Remove the records\n",
    "\n",
    "- columns like `ind_nomina_ult1 - 0.117701` & `ind_nom_pens_ult1 - 0.117701` have only very less number of null values. If we remove those records, we are removing around 15,012 rows (approximately from the total `df_train` dataset). Comparing the size of the entire dataset, it does not make a huge difference, So we can remove these records.\n",
    "\n",
    "\n",
    " "
   ]
  },
  {
   "cell_type": "markdown",
   "id": "264d123e",
   "metadata": {},
   "source": [
    "#### Dealing Null Values in `Income`"
   ]
  },
  {
   "cell_type": "code",
   "execution_count": 24,
   "id": "b22410f4",
   "metadata": {},
   "outputs": [],
   "source": [
    "df_train.dropna(subset=['ind_nomina_ult1','ind_nom_pens_ult1'],inplace = True)"
   ]
  },
  {
   "cell_type": "code",
   "execution_count": 25,
   "id": "9d39f2ba",
   "metadata": {},
   "outputs": [
    {
     "data": {
      "image/png": "[encoded data removed]",
      "text/plain": [
       "<Figure size 1200x400 with 1 Axes>"
      ]
     },
     "metadata": {},
     "output_type": "display_data"
    },
    {
     "name": "stdout",
     "output_type": "stream",
     "text": [
      "The minumum Annua income in VIP group : 3796.86\n",
      "The maximum Annual income in VIP group : 19849331.97\n",
      "The Median annual income of the group : 141562.68\n",
      "Average VIP customers annual income : 175853.0885455057\n"
     ]
    }
   ],
   "source": [
    "plt.figure(figsize=(12,4))\n",
    "sns.boxplot(x=df_vip_customer_list['renta'])\n",
    "plt.tight_layout()\n",
    "plt.show()\n",
    "\n",
    "print(f\"The minumum Annua income in VIP group : {df_vip_customer_list['renta'].min()}\")\n",
    "print(f\"The maximum Annual income in VIP group : {df_vip_customer_list['renta'].max()}\")\n",
    "print(f\"The Median annual income of the group : {df_vip_customer_list['renta'].median()}\")\n",
    "print(f\"Average VIP customers annual income : {df_vip_customer_list['renta'].mean()}\")"
   ]
  },
  {
   "cell_type": "code",
   "execution_count": 26,
   "id": "e978f086",
   "metadata": {},
   "outputs": [
    {
     "data": {
      "image/png": "[encoded data removed]",
      "text/plain": [
       "<Figure size 1200x400 with 1 Axes>"
      ]
     },
     "metadata": {},
     "output_type": "display_data"
    },
    {
     "name": "stdout",
     "output_type": "stream",
     "text": [
      "The minumum Annual income in Regular group : 1471.23\n",
      "The maximum Annual income in Regular group : 28894395.51\n",
      "The median annual income of the group : 107942.46\n",
      "Average Regualar customers annual income : 141496.53034630077\n"
     ]
    }
   ],
   "source": [
    "plt.figure(figsize=(12,4))\n",
    "sns.boxplot(x=df_regular_customer_list['renta'])\n",
    "plt.tight_layout()\n",
    "plt.show()\n",
    "\n",
    "\n",
    "print(f\"The minumum Annual income in Regular group : {df_regular_customer_list['renta'].min()}\")\n",
    "print(f\"The maximum Annual income in Regular group : {df_regular_customer_list['renta'].max()}\")\n",
    "print(f\"The median annual income of the group : {df_regular_customer_list['renta'].median()}\")\n",
    "print(f\"Average Regualar customers annual income : {df_regular_customer_list['renta'].mean()}\")"
   ]
  },
  {
   "cell_type": "code",
   "execution_count": 27,
   "id": "6e33f9e2",
   "metadata": {},
   "outputs": [
    {
     "data": {
      "image/png": "[encoded data removed]",
      "text/plain": [
       "<Figure size 1200x400 with 1 Axes>"
      ]
     },
     "metadata": {},
     "output_type": "display_data"
    },
    {
     "name": "stdout",
     "output_type": "stream",
     "text": [
      "The minumum Annual income in students group : 1202.73\n",
      "The maximum Annual income in students group : 28894395.51\n",
      "The Median annual income of the group : 88740.27\n",
      "Average students customers annual income : 116431.55839100214\n"
     ]
    }
   ],
   "source": [
    "plt.figure(figsize=(12,4))\n",
    "sns.boxplot(x=df_student_customer_list['renta'])\n",
    "plt.tight_layout()\n",
    "plt.show()\n",
    "\n",
    "\n",
    "print(f\"The minumum Annual income in students group : {df_student_customer_list['renta'].min()}\")\n",
    "print(f\"The maximum Annual income in students group : {df_student_customer_list['renta'].max()}\")\n",
    "print(f\"The Median annual income of the group : {df_student_customer_list['renta'].median()}\")\n",
    "print(f\"Average students customers annual income : {df_student_customer_list['renta'].mean()}\")\n"
   ]
  },
  {
   "cell_type": "markdown",
   "id": "58bd2868",
   "metadata": {},
   "source": [
    "Since the `renta` (Annual Income) has large outliers and skewness, I'm using median to impute the missing values in each segments. "
   ]
  },
  {
   "cell_type": "code",
   "execution_count": 28,
   "id": "8b3e2a47",
   "metadata": {},
   "outputs": [],
   "source": [
    "df_train['renta']=df_train['renta'].fillna(\n",
    "    df_train.groupby('segmento')['renta'].transform('median')\n",
    ")"
   ]
  },
  {
   "cell_type": "code",
   "execution_count": 29,
   "id": "a2830dc4",
   "metadata": {},
   "outputs": [
    {
     "data": {
      "text/plain": [
       "0"
      ]
     },
     "execution_count": 29,
     "metadata": {},
     "output_type": "execute_result"
    }
   ],
   "source": [
    "df_train['renta'].isnull().sum()"
   ]
  },
  {
   "cell_type": "markdown",
   "id": "9ae50a4d",
   "metadata": {},
   "source": [
    "#### Dealing Null Values in `Age` and `Sex`"
   ]
  },
  {
   "cell_type": "code",
   "execution_count": 30,
   "id": "a8c51f27",
   "metadata": {},
   "outputs": [
    {
     "data": {
      "text/plain": [
       "0"
      ]
     },
     "execution_count": 30,
     "metadata": {},
     "output_type": "execute_result"
    }
   ],
   "source": [
    "#Sex and Age are only missing in Regular Customers \n",
    "#We'll impute sex with mode(as it is categorical) and age with median(as the data is skewed)\n",
    "df_train['sexo'] = df_train['sexo'].fillna(\n",
    "    df_train.groupby('segmento')['sexo'].transform(lambda x: x.mode()[0] if not x.mode().empty else np.nan)\n",
    ")\n",
    "df_train['sexo'].isnull().sum()"
   ]
  },
  {
   "cell_type": "code",
   "execution_count": 31,
   "id": "42a686bc",
   "metadata": {},
   "outputs": [
    {
     "data": {
      "text/plain": [
       "0"
      ]
     },
     "execution_count": 31,
     "metadata": {},
     "output_type": "execute_result"
    }
   ],
   "source": [
    "#Age\n",
    "df_train['age']=df_train['age'].fillna(\n",
    "    df_train.groupby('segmento')['age'].transform('median')\n",
    ")\n",
    "df_train.age.isnull().sum()"
   ]
  },
  {
   "cell_type": "code",
   "execution_count": 32,
   "id": "d8a299b9",
   "metadata": {},
   "outputs": [
    {
     "data": {
      "text/plain": [
       "canal_entrada            170215\n",
       "indrel_1mes              133935\n",
       "tiprel_1mes              133935\n",
       "cod_prov                  77745\n",
       "nomprov                   77745\n",
       "tipodom                   11889\n",
       "ind_empleado              11888\n",
       "pais_residencia           11888\n",
       "fecha_alta                11888\n",
       "ind_nuevo                 11888\n",
       "indrel                    11888\n",
       "indresi                   11888\n",
       "indext                    11888\n",
       "indfall                   11888\n",
       "ind_actividad_cliente     11888\n",
       "dtype: int64"
      ]
     },
     "execution_count": 32,
     "metadata": {},
     "output_type": "execute_result"
    }
   ],
   "source": [
    "missing_values_test = compute_missing_values(df_train)\n",
    "missing_values_test"
   ]
  },
  {
   "cell_type": "code",
   "execution_count": 33,
   "id": "603f0163",
   "metadata": {},
   "outputs": [],
   "source": [
    "df_train.dropna(subset=['ind_empleado','tipodom'],inplace = True)"
   ]
  },
  {
   "cell_type": "markdown",
   "id": "4ab723b1",
   "metadata": {},
   "source": [
    "#### The missing values in `canal_entrada` is filled with unknown as there were a lot of records and mode imputing didn't feel like a good technique"
   ]
  },
  {
   "cell_type": "code",
   "execution_count": 34,
   "id": "a9b08919",
   "metadata": {},
   "outputs": [
    {
     "data": {
      "text/plain": [
       "0"
      ]
     },
     "execution_count": 34,
     "metadata": {},
     "output_type": "execute_result"
    }
   ],
   "source": [
    "df_train['canal_entrada']=df_train['canal_entrada'].fillna('Unknown')\n",
    "df_train['canal_entrada'].isnull().sum()"
   ]
  },
  {
   "cell_type": "markdown",
   "id": "c9682558",
   "metadata": {},
   "source": [
    "#### Assumption and Logic in imputing `indrel_1mes` and `tiprel_1mes`\n",
    "\n",
    "- If the customer is a student (segmento == '03 - UNIVERSITARIO') or has 0 months of seniority (antiguedad == 0), they are likely new or not yet active, so we impute 'P' (Potential).\n",
    "\n",
    "- Otherwise, the default most common relationship is '1' (Primary), so we impute '1'.\n",
    "\n",
    "**Assumption**: Students and new customers are more likely to be potential users, while others can be safely treated as standard active customers.\n",
    "\n",
    "- If their indrel_1mes is 'P' (Potential), it makes sense to set their relationship type as 'R' (Potential).\n",
    "\n",
    "- For everyone else, assume 'A' (Active) unless evidence suggests otherwise.\n",
    "\n",
    "**Assumption**: If someone is a potential customer, their relationship with the bank is also potential ('R'). For others, active status is a safe assumption."
   ]
  },
  {
   "cell_type": "code",
   "execution_count": 35,
   "id": "385b4d42",
   "metadata": {},
   "outputs": [
    {
     "data": {
      "text/plain": [
       "array([1.0, 3.0, 2.0, nan, '1.0', '1', '3', '3.0', '2.0', '4.0', 'P', '4',\n",
       "       4.0, '2'], dtype=object)"
      ]
     },
     "execution_count": 35,
     "metadata": {},
     "output_type": "execute_result"
    }
   ],
   "source": [
    "df_train['indrel_1mes'].unique()"
   ]
  },
  {
   "cell_type": "code",
   "execution_count": 36,
   "id": "067a26cf",
   "metadata": {},
   "outputs": [
    {
     "name": "stdout",
     "output_type": "stream",
     "text": [
      "['1' '3' '2' nan '4' 'P']\n"
     ]
    }
   ],
   "source": [
    "# Convert all values to string\n",
    "df_train['indrel_1mes'] = df_train['indrel_1mes'].astype(str)\n",
    "\n",
    "# Strip any trailing .0 (e.g., '3.0' -> '3') and whitespace\n",
    "df_train['indrel_1mes'] = df_train['indrel_1mes'].str.strip().str.replace(r'\\.0$', '', regex=True)\n",
    "\n",
    "# Replace 'nan' string with actual NaN\n",
    "df_train['indrel_1mes'] = df_train['indrel_1mes'].replace('nan', np.nan)\n",
    "\n",
    "# View cleaned unique values\n",
    "print(df_train['indrel_1mes'].unique())"
   ]
  },
  {
   "cell_type": "code",
   "execution_count": 37,
   "id": "31409ba2",
   "metadata": {},
   "outputs": [
    {
     "name": "stdout",
     "output_type": "stream",
     "text": [
      "0\n"
     ]
    }
   ],
   "source": [
    "# Create mask where the condition is True\n",
    "mask = (df_train['indrel_1mes'].isna()) & (\n",
    "    (df_train['segmento'] == '03 - UNIVERSITARIO') | (df_train['antiguedad'] == 0)\n",
    ")\n",
    "\n",
    "# Fill only those positions with 'P', rest with '1'\n",
    "df_train.loc[mask, 'indrel_1mes'] = 'P'\n",
    "df_train['indrel_1mes'].fillna('1', inplace=True)\n",
    "\n",
    "print(df_train['indrel_1mes'].isnull().sum())"
   ]
  },
  {
   "cell_type": "code",
   "execution_count": 38,
   "id": "bfa14780",
   "metadata": {},
   "outputs": [
    {
     "data": {
      "text/plain": [
       "array(['A', 'I', 'P', nan, 'R', 'N'], dtype=object)"
      ]
     },
     "execution_count": 38,
     "metadata": {},
     "output_type": "execute_result"
    }
   ],
   "source": [
    "df_train['tiprel_1mes'].unique()"
   ]
  },
  {
   "cell_type": "code",
   "execution_count": 39,
   "id": "fa9f7446",
   "metadata": {},
   "outputs": [
    {
     "data": {
      "text/plain": [
       "0"
      ]
     },
     "execution_count": 39,
     "metadata": {},
     "output_type": "execute_result"
    }
   ],
   "source": [
    "df_train['tiprel_1mes'] = df_train['tiprel_1mes'].fillna(\n",
    "    df_train['indrel_1mes'].apply(lambda x: 'R' if x == 'P' else 'A')\n",
    ")\n",
    "df_train['tiprel_1mes'].isnull().sum()"
   ]
  },
  {
   "cell_type": "markdown",
   "id": "23d5b136",
   "metadata": {},
   "source": [
    "#### Missing Values in `cod_prov` and `nom_prov`"
   ]
  },
  {
   "cell_type": "code",
   "execution_count": 40,
   "id": "cb55a14b",
   "metadata": {},
   "outputs": [
    {
     "data": {
      "text/plain": [
       "cod_prov    65856\n",
       "nomprov     65856\n",
       "dtype: int64"
      ]
     },
     "execution_count": 40,
     "metadata": {},
     "output_type": "execute_result"
    }
   ],
   "source": [
    "missing_set = compute_missing_values(df_train)\n",
    "missing_set"
   ]
  },
  {
   "cell_type": "code",
   "execution_count": 41,
   "id": "8b775928",
   "metadata": {},
   "outputs": [],
   "source": [
    "df_train['cod_prov'].fillna(df_train['cod_prov'].mode()[0],inplace=True)\n",
    "df_train['nomprov'].fillna(df_train['nomprov'].mode()[0],inplace=True)"
   ]
  },
  {
   "cell_type": "code",
   "execution_count": 42,
   "id": "08e96384",
   "metadata": {},
   "outputs": [
    {
     "data": {
      "text/plain": [
       "fecha_dato               0\n",
       "ncodpers                 0\n",
       "ind_empleado             0\n",
       "pais_residencia          0\n",
       "sexo                     0\n",
       "age                      0\n",
       "fecha_alta               0\n",
       "ind_nuevo                0\n",
       "antiguedad               0\n",
       "indrel                   0\n",
       "indrel_1mes              0\n",
       "tiprel_1mes              0\n",
       "indresi                  0\n",
       "indext                   0\n",
       "canal_entrada            0\n",
       "indfall                  0\n",
       "tipodom                  0\n",
       "cod_prov                 0\n",
       "nomprov                  0\n",
       "ind_actividad_cliente    0\n",
       "renta                    0\n",
       "segmento                 0\n",
       "ind_ahor_fin_ult1        0\n",
       "ind_aval_fin_ult1        0\n",
       "ind_cco_fin_ult1         0\n",
       "ind_cder_fin_ult1        0\n",
       "ind_cno_fin_ult1         0\n",
       "ind_ctju_fin_ult1        0\n",
       "ind_ctma_fin_ult1        0\n",
       "ind_ctop_fin_ult1        0\n",
       "ind_ctpp_fin_ult1        0\n",
       "ind_deco_fin_ult1        0\n",
       "ind_deme_fin_ult1        0\n",
       "ind_dela_fin_ult1        0\n",
       "ind_ecue_fin_ult1        0\n",
       "ind_fond_fin_ult1        0\n",
       "ind_hip_fin_ult1         0\n",
       "ind_plan_fin_ult1        0\n",
       "ind_pres_fin_ult1        0\n",
       "ind_reca_fin_ult1        0\n",
       "ind_tjcr_fin_ult1        0\n",
       "ind_valo_fin_ult1        0\n",
       "ind_viv_fin_ult1         0\n",
       "ind_nomina_ult1          0\n",
       "ind_nom_pens_ult1        0\n",
       "ind_recibo_ult1          0\n",
       "dtype: int64"
      ]
     },
     "execution_count": 42,
     "metadata": {},
     "output_type": "execute_result"
    }
   ],
   "source": [
    "df_train.isnull().sum()"
   ]
  },
  {
   "cell_type": "code",
   "execution_count": 43,
   "id": "d78722ef",
   "metadata": {},
   "outputs": [
    {
     "name": "stdout",
     "output_type": "stream",
     "text": [
      "After Cleaning the dataset, there are 13619357 records and 46 columns\n"
     ]
    }
   ],
   "source": [
    "print(f\"After Cleaning the dataset, there are {df_train.shape[0]} records and {df_train.shape[1]} columns\")"
   ]
  },
  {
   "cell_type": "code",
   "execution_count": 44,
   "id": "008c22d9",
   "metadata": {},
   "outputs": [
    {
     "name": "stdout",
     "output_type": "stream",
     "text": [
      "Cleaned data saved to data folder\n"
     ]
    }
   ],
   "source": [
    "df_train.to_csv('data/cleaned_santander_data.csv', index=False)\n",
    "print(\"Cleaned data saved to data folder\")"
   ]
  },
  {
   "cell_type": "code",
   "execution_count": null,
   "id": "d7006e3c",
   "metadata": {},
   "outputs": [],
   "source": [
    "baseline_preds.rename(columns={'prediction': 'added_products'}, inplace=True)"
   ]
  },
  {
   "cell_type": "code",
   "execution_count": 1,
   "id": "1fd504a8",
   "metadata": {},
   "outputs": [],
   "source": [
    "import pandas as pd"
   ]
  },
  {
   "cell_type": "code",
   "execution_count": 8,
   "id": "66863d06",
   "metadata": {},
   "outputs": [
    {
     "name": "stderr",
     "output_type": "stream",
     "text": [
      "/var/folders/jl/5_rcdjz121v7rnhqrmsz6df80000gn/T/ipykernel_75198/1670766928.py:1: DtypeWarning: Columns (15) have mixed types. Specify dtype option on import or set low_memory=False.\n",
      "  df_test = pd.read_csv('data/test_ver2.csv')\n"
     ]
    }
   ],
   "source": [
    "df_test = pd.read_csv('data/test_ver2.csv')"
   ]
  },
  {
   "cell_type": "code",
   "execution_count": 3,
   "id": "bf783519",
   "metadata": {},
   "outputs": [
    {
     "data": {
      "text/plain": [
       "(929615, 24)"
      ]
     },
     "execution_count": 3,
     "metadata": {},
     "output_type": "execute_result"
    }
   ],
   "source": [
    "df_test.shape"
   ]
  },
  {
   "cell_type": "code",
   "execution_count": null,
   "id": "4df08af4",
   "metadata": {},
   "outputs": [],
   "source": [
    "# Get unique customers in May 2016\n",
    "test_users = df_test['ncodpers'].unique()\n",
    "\n",
    "# Predict same top 7 for all\n",
    "baseline_test_preds = pd.DataFrame({\n",
    "    'ncodpers': test_users,\n",
    "    'added_products': [' '.join(top_7_products)] * len(test_users)\n",
    "})"
   ]
  },
  {
   "cell_type": "code",
   "execution_count": null,
   "id": "188e350c",
   "metadata": {},
   "outputs": [],
   "source": [
    "baseline_test_preds.to_csv('data/kaggle_submission.csv',index=False)"
   ]
  },
  {
   "cell_type": "code",
   "execution_count": 16,
   "id": "31b2045b",
   "metadata": {},
   "outputs": [
    {
     "data": {
      "text/html": [
       "<div>\n",
       "<style scoped>\n",
       "    .dataframe tbody tr th:only-of-type {\n",
       "        vertical-align: middle;\n",
       "    }\n",
       "\n",
       "    .dataframe tbody tr th {\n",
       "        vertical-align: top;\n",
       "    }\n",
       "\n",
       "    .dataframe thead th {\n",
       "        text-align: right;\n",
       "    }\n",
       "</style>\n",
       "<table border=\"1\" class=\"dataframe\">\n",
       "  <thead>\n",
       "    <tr style=\"text-align: right;\">\n",
       "      <th></th>\n",
       "      <th>ncodpers</th>\n",
       "      <th>added_products</th>\n",
       "    </tr>\n",
       "  </thead>\n",
       "  <tbody>\n",
       "    <tr>\n",
       "      <th>0</th>\n",
       "      <td>15889</td>\n",
       "      <td>ind_cco_fin_ult1 ind_recibo_ult1 ind_nom_pens_...</td>\n",
       "    </tr>\n",
       "    <tr>\n",
       "      <th>1</th>\n",
       "      <td>1170544</td>\n",
       "      <td>ind_cco_fin_ult1 ind_recibo_ult1 ind_nom_pens_...</td>\n",
       "    </tr>\n",
       "    <tr>\n",
       "      <th>2</th>\n",
       "      <td>1170545</td>\n",
       "      <td>ind_cco_fin_ult1 ind_recibo_ult1 ind_nom_pens_...</td>\n",
       "    </tr>\n",
       "    <tr>\n",
       "      <th>3</th>\n",
       "      <td>1170547</td>\n",
       "      <td>ind_cco_fin_ult1 ind_recibo_ult1 ind_nom_pens_...</td>\n",
       "    </tr>\n",
       "    <tr>\n",
       "      <th>4</th>\n",
       "      <td>1170548</td>\n",
       "      <td>ind_cco_fin_ult1 ind_recibo_ult1 ind_nom_pens_...</td>\n",
       "    </tr>\n",
       "    <tr>\n",
       "      <th>...</th>\n",
       "      <td>...</td>\n",
       "      <td>...</td>\n",
       "    </tr>\n",
       "    <tr>\n",
       "      <th>929610</th>\n",
       "      <td>660237</td>\n",
       "      <td>ind_cco_fin_ult1 ind_recibo_ult1 ind_nom_pens_...</td>\n",
       "    </tr>\n",
       "    <tr>\n",
       "      <th>929611</th>\n",
       "      <td>660238</td>\n",
       "      <td>ind_cco_fin_ult1 ind_recibo_ult1 ind_nom_pens_...</td>\n",
       "    </tr>\n",
       "    <tr>\n",
       "      <th>929612</th>\n",
       "      <td>660240</td>\n",
       "      <td>ind_cco_fin_ult1 ind_recibo_ult1 ind_nom_pens_...</td>\n",
       "    </tr>\n",
       "    <tr>\n",
       "      <th>929613</th>\n",
       "      <td>660243</td>\n",
       "      <td>ind_cco_fin_ult1 ind_recibo_ult1 ind_nom_pens_...</td>\n",
       "    </tr>\n",
       "    <tr>\n",
       "      <th>929614</th>\n",
       "      <td>660248</td>\n",
       "      <td>ind_cco_fin_ult1 ind_recibo_ult1 ind_nom_pens_...</td>\n",
       "    </tr>\n",
       "  </tbody>\n",
       "</table>\n",
       "<p>929615 rows × 2 columns</p>\n",
       "</div>"
      ],
      "text/plain": [
       "        ncodpers                                     added_products\n",
       "0          15889  ind_cco_fin_ult1 ind_recibo_ult1 ind_nom_pens_...\n",
       "1        1170544  ind_cco_fin_ult1 ind_recibo_ult1 ind_nom_pens_...\n",
       "2        1170545  ind_cco_fin_ult1 ind_recibo_ult1 ind_nom_pens_...\n",
       "3        1170547  ind_cco_fin_ult1 ind_recibo_ult1 ind_nom_pens_...\n",
       "4        1170548  ind_cco_fin_ult1 ind_recibo_ult1 ind_nom_pens_...\n",
       "...          ...                                                ...\n",
       "929610    660237  ind_cco_fin_ult1 ind_recibo_ult1 ind_nom_pens_...\n",
       "929611    660238  ind_cco_fin_ult1 ind_recibo_ult1 ind_nom_pens_...\n",
       "929612    660240  ind_cco_fin_ult1 ind_recibo_ult1 ind_nom_pens_...\n",
       "929613    660243  ind_cco_fin_ult1 ind_recibo_ult1 ind_nom_pens_...\n",
       "929614    660248  ind_cco_fin_ult1 ind_recibo_ult1 ind_nom_pens_...\n",
       "\n",
       "[929615 rows x 2 columns]"
      ]
     },
     "execution_count": 16,
     "metadata": {},
     "output_type": "execute_result"
    }
   ],
   "source": [
    "baseline_preds"
   ]
  },
  {
   "cell_type": "markdown",
   "id": "7c23e208",
   "metadata": {},
   "source": [
    "### Feature Engineering"
   ]
  },
  {
   "cell_type": "code",
   "execution_count": 19,
   "id": "5b597d27",
   "metadata": {},
   "outputs": [
    {
     "name": "stdout",
     "output_type": "stream",
     "text": [
      "<class 'pandas.core.frame.DataFrame'>\n",
      "RangeIndex: 13619357 entries, 0 to 13619356\n",
      "Data columns (total 46 columns):\n",
      " #   Column                 Dtype  \n",
      "---  ------                 -----  \n",
      " 0   fecha_dato             object \n",
      " 1   ncodpers               int64  \n",
      " 2   ind_empleado           object \n",
      " 3   pais_residencia        object \n",
      " 4   sexo                   object \n",
      " 5   age                    float64\n",
      " 6   fecha_alta             object \n",
      " 7   ind_nuevo              float64\n",
      " 8   antiguedad             int64  \n",
      " 9   indrel                 float64\n",
      " 10  indrel_1mes            object \n",
      " 11  tiprel_1mes            object \n",
      " 12  indresi                object \n",
      " 13  indext                 object \n",
      " 14  canal_entrada          object \n",
      " 15  indfall                object \n",
      " 16  tipodom                float64\n",
      " 17  cod_prov               float64\n",
      " 18  nomprov                object \n",
      " 19  ind_actividad_cliente  float64\n",
      " 20  renta                  float64\n",
      " 21  segmento               object \n",
      " 22  ind_ahor_fin_ult1      int64  \n",
      " 23  ind_aval_fin_ult1      int64  \n",
      " 24  ind_cco_fin_ult1       int64  \n",
      " 25  ind_cder_fin_ult1      int64  \n",
      " 26  ind_cno_fin_ult1       int64  \n",
      " 27  ind_ctju_fin_ult1      int64  \n",
      " 28  ind_ctma_fin_ult1      int64  \n",
      " 29  ind_ctop_fin_ult1      int64  \n",
      " 30  ind_ctpp_fin_ult1      int64  \n",
      " 31  ind_deco_fin_ult1      int64  \n",
      " 32  ind_deme_fin_ult1      int64  \n",
      " 33  ind_dela_fin_ult1      int64  \n",
      " 34  ind_ecue_fin_ult1      int64  \n",
      " 35  ind_fond_fin_ult1      int64  \n",
      " 36  ind_hip_fin_ult1       int64  \n",
      " 37  ind_plan_fin_ult1      int64  \n",
      " 38  ind_pres_fin_ult1      int64  \n",
      " 39  ind_reca_fin_ult1      int64  \n",
      " 40  ind_tjcr_fin_ult1      int64  \n",
      " 41  ind_valo_fin_ult1      int64  \n",
      " 42  ind_viv_fin_ult1       int64  \n",
      " 43  ind_nomina_ult1        float64\n",
      " 44  ind_nom_pens_ult1      float64\n",
      " 45  ind_recibo_ult1        int64  \n",
      "dtypes: float64(9), int64(24), object(13)\n",
      "memory usage: 4.7+ GB\n"
     ]
    }
   ],
   "source": [
    "df_train.info()"
   ]
  },
  {
   "cell_type": "code",
   "execution_count": 20,
   "id": "98669219",
   "metadata": {},
   "outputs": [
    {
     "data": {
      "text/plain": [
       "fecha_dato               0\n",
       "ncodpers                 0\n",
       "ind_empleado             0\n",
       "pais_residencia          0\n",
       "sexo                     0\n",
       "age                      0\n",
       "fecha_alta               0\n",
       "ind_nuevo                0\n",
       "antiguedad               0\n",
       "indrel                   0\n",
       "indrel_1mes              0\n",
       "tiprel_1mes              0\n",
       "indresi                  0\n",
       "indext                   0\n",
       "canal_entrada            0\n",
       "indfall                  0\n",
       "tipodom                  0\n",
       "cod_prov                 0\n",
       "nomprov                  0\n",
       "ind_actividad_cliente    0\n",
       "renta                    0\n",
       "segmento                 0\n",
       "ind_ahor_fin_ult1        0\n",
       "ind_aval_fin_ult1        0\n",
       "ind_cco_fin_ult1         0\n",
       "ind_cder_fin_ult1        0\n",
       "ind_cno_fin_ult1         0\n",
       "ind_ctju_fin_ult1        0\n",
       "ind_ctma_fin_ult1        0\n",
       "ind_ctop_fin_ult1        0\n",
       "ind_ctpp_fin_ult1        0\n",
       "ind_deco_fin_ult1        0\n",
       "ind_deme_fin_ult1        0\n",
       "ind_dela_fin_ult1        0\n",
       "ind_ecue_fin_ult1        0\n",
       "ind_fond_fin_ult1        0\n",
       "ind_hip_fin_ult1         0\n",
       "ind_plan_fin_ult1        0\n",
       "ind_pres_fin_ult1        0\n",
       "ind_reca_fin_ult1        0\n",
       "ind_tjcr_fin_ult1        0\n",
       "ind_valo_fin_ult1        0\n",
       "ind_viv_fin_ult1         0\n",
       "ind_nomina_ult1          0\n",
       "ind_nom_pens_ult1        0\n",
       "ind_recibo_ult1          0\n",
       "dtype: int64"
      ]
     },
     "execution_count": 20,
     "metadata": {},
     "output_type": "execute_result"
    }
   ],
   "source": [
    "df_train.isnull().sum()"
   ]
  },
  {
   "cell_type": "markdown",
   "id": "808fdb25",
   "metadata": {},
   "source": [
    "### Collaborative Filtering\n",
    "\n",
    "**What is CF?**\n",
    "\n",
    "Collaborative Filtering recommends items based on user–item interaction patterns rather than item content or user demographics.\n",
    "\n",
    "Two main types:\n",
    "\n",
    "- User-based CF: Finds similar users and recommends items they liked.\n",
    "\n",
    "- Item-based CF: Finds similar items and recommends items similar to what a user already has.\n",
    "\n"
   ]
  },
  {
   "cell_type": "code",
   "execution_count": 2,
   "id": "6439b34c",
   "metadata": {},
   "outputs": [
    {
     "name": "stdout",
     "output_type": "stream",
     "text": [
      "Collecting scikit-surprise\n",
      "  Downloading scikit_surprise-1.1.4.tar.gz (154 kB)\n",
      "  Installing build dependencies ... \u001b[?25ldone\n",
      "\u001b[?25h  Getting requirements to build wheel ... \u001b[?25ldone\n",
      "\u001b[?25h  Preparing metadata (pyproject.toml) ... \u001b[?25ldone\n",
      "\u001b[?25hRequirement already satisfied: joblib>=1.2.0 in /opt/miniconda3/lib/python3.8/site-packages (from scikit-surprise) (1.4.2)\n",
      "Requirement already satisfied: numpy>=1.19.5 in /opt/miniconda3/lib/python3.8/site-packages (from scikit-surprise) (1.23.5)\n",
      "Requirement already satisfied: scipy>=1.6.0 in /opt/miniconda3/lib/python3.8/site-packages (from scikit-surprise) (1.9.3)\n",
      "Building wheels for collected packages: scikit-surprise\n",
      "  Building wheel for scikit-surprise (pyproject.toml) ... \u001b[?25ldone\n",
      "\u001b[?25h  Created wheel for scikit-surprise: filename=scikit_surprise-1.1.4-cp38-cp38-macosx_11_0_arm64.whl size=497756 sha256=ca29a97506cbad4c4f588e4cc3b5407d7fbdbdcbec13021e55a4bcf7fd7f61b8\n",
      "  Stored in directory: /Users/dennis_m_jose/Library/Caches/pip/wheels/99/34/23/b19f7de7352af5d1913f2654641432d6740c2666eecf2472ea\n",
      "Successfully built scikit-surprise\n",
      "Installing collected packages: scikit-surprise\n",
      "Successfully installed scikit-surprise-1.1.4\n",
      "\n",
      "\u001b[1m[\u001b[0m\u001b[34;49mnotice\u001b[0m\u001b[1;39;49m]\u001b[0m\u001b[39;49m A new release of pip is available: \u001b[0m\u001b[31;49m24.2\u001b[0m\u001b[39;49m -> \u001b[0m\u001b[32;49m25.0.1\u001b[0m\n",
      "\u001b[1m[\u001b[0m\u001b[34;49mnotice\u001b[0m\u001b[1;39;49m]\u001b[0m\u001b[39;49m To update, run: \u001b[0m\u001b[32;49mpip install --upgrade pip\u001b[0m\n",
      "Note: you may need to restart the kernel to use updated packages.\n"
     ]
    }
   ],
   "source": [
    "pip install scikit-surprise"
   ]
  },
  {
   "cell_type": "code",
   "execution_count": 23,
   "id": "7bd58aec",
   "metadata": {},
   "outputs": [],
   "source": [
    "import pandas as pd\n",
    "import numpy as np\n",
    "from surprise import Dataset, Reader\n"
   ]
  },
  {
   "cell_type": "markdown",
   "id": "f0eb70e4",
   "metadata": {},
   "source": [
    "#### Get the cleaned Dataset\n",
    "\n",
    "**Extracting Product Additions**\n",
    "\n",
    "The source dataset contains monthly snapshots of each customer’s product ownership.\n",
    "\n",
    "We focus on newly added products in each month (as the target to predict).\n",
    "\n",
    "**Logic:**\n",
    "\n",
    "- Sort data by ncodpers (customer ID) and fecha_dato (month).\n",
    "\n",
    "- Shift previous month's values for each product.\n",
    "\n",
    "- Compare current vs previous month:\n",
    "\n",
    "    - If product changed from 0 → 1, mark as added (1).\n",
    "\n",
    "    - Else mark as 0.\n",
    "\n",
    "This results in a product_diff DataFrame:\n",
    "\n",
    "\n",
    "ncodpers | fecha_dato | prod_1 | prod_2 | ... | prod_24\n",
    "\n",
    "111111   | 2015-02    |   0    |   1    | ... |   0\n",
    "\n",
    "\n",
    "Each column indicates if a product was newly added that month."
   ]
  },
  {
   "cell_type": "code",
   "execution_count": 4,
   "id": "64e5be98",
   "metadata": {},
   "outputs": [
    {
     "name": "stderr",
     "output_type": "stream",
     "text": [
      "/var/folders/jl/5_rcdjz121v7rnhqrmsz6df80000gn/T/ipykernel_43174/2215840755.py:1: DtypeWarning: Columns (10) have mixed types. Specify dtype option on import or set low_memory=False.\n",
      "  df_train = pd.read_csv('data/cleaned_santander_data.csv')\n"
     ]
    }
   ],
   "source": [
    "df_train = pd.read_csv('data/cleaned_santander_data.csv')"
   ]
  },
  {
   "cell_type": "code",
   "execution_count": 5,
   "id": "7ccfb93b",
   "metadata": {},
   "outputs": [],
   "source": [
    "ult1_columns = [col for col in df_train.columns if col.endswith('ult1')]"
   ]
  },
  {
   "cell_type": "code",
   "execution_count": 9,
   "id": "d71baf36",
   "metadata": {},
   "outputs": [],
   "source": [
    "\n",
    "df_train['fecha_dato'] = pd.to_datetime(df_train['fecha_dato'])\n",
    "\n",
    "#Preparing Data for viz\n",
    "df_train_copy = df_train.sort_values(['ncodpers', 'fecha_dato'])\n",
    "cols_to_use = ['ncodpers', 'fecha_dato'] + ult1_columns\n",
    "df_small = df_train[cols_to_use].copy()\n",
    "\n",
    "\n",
    "for col in ult1_columns:\n",
    "    df_small[col] = df_small[col].fillna(0).astype('int8')\n",
    "\n",
    "df_small.sort_values(['ncodpers', 'fecha_dato'], inplace=True)\n",
    "\n",
    "\n",
    "product_cols = ult1_columns\n",
    "product_diff = pd.DataFrame(0, index=df_small.index, columns=product_cols)\n",
    "\n",
    "#Processing in batches to avoid kernel crash\n",
    "unique_ids = df_small['ncodpers'].unique()\n",
    "batch_size = 100000\n",
    "\n",
    "for i in range(0, len(unique_ids), batch_size):\n",
    "    batch_ids = unique_ids[i:i + batch_size]\n",
    "    batch_df = df_small[df_small['ncodpers'].isin(batch_ids)].copy()\n",
    "\n",
    "    # Shift previous month’s values\n",
    "    shifted = batch_df.groupby('ncodpers')[product_cols].shift(1).fillna(0).astype('int8')\n",
    "    \n",
    "    # Only count additions: where previous = 0 and current = 1\n",
    "    additions = ((batch_df[product_cols] - shifted) == 1).astype('int8')\n",
    "    \n",
    "    # Assign to product_diff\n",
    "    product_diff.loc[batch_df.index] = additions\n",
    "\n",
    "\n",
    "product_diff['fecha_dato'] = df_small['fecha_dato']\n",
    "product_diff['ncodpers'] = df_small['ncodpers']\n",
    "product_diff.to_csv('data/product_diff.csv', index=False)\n"
   ]
  },
  {
   "cell_type": "code",
   "execution_count": 9,
   "id": "f9a09cfe",
   "metadata": {},
   "outputs": [
    {
     "data": {
      "text/html": [
       "<div>\n",
       "<style scoped>\n",
       "    .dataframe tbody tr th:only-of-type {\n",
       "        vertical-align: middle;\n",
       "    }\n",
       "\n",
       "    .dataframe tbody tr th {\n",
       "        vertical-align: top;\n",
       "    }\n",
       "\n",
       "    .dataframe thead th {\n",
       "        text-align: right;\n",
       "    }\n",
       "</style>\n",
       "<table border=\"1\" class=\"dataframe\">\n",
       "  <thead>\n",
       "    <tr style=\"text-align: right;\">\n",
       "      <th></th>\n",
       "      <th>ind_ahor_fin_ult1</th>\n",
       "      <th>ind_aval_fin_ult1</th>\n",
       "      <th>ind_cco_fin_ult1</th>\n",
       "      <th>ind_cder_fin_ult1</th>\n",
       "      <th>ind_cno_fin_ult1</th>\n",
       "      <th>ind_ctju_fin_ult1</th>\n",
       "      <th>ind_ctma_fin_ult1</th>\n",
       "      <th>ind_ctop_fin_ult1</th>\n",
       "      <th>ind_ctpp_fin_ult1</th>\n",
       "      <th>ind_deco_fin_ult1</th>\n",
       "      <th>...</th>\n",
       "      <th>ind_pres_fin_ult1</th>\n",
       "      <th>ind_reca_fin_ult1</th>\n",
       "      <th>ind_tjcr_fin_ult1</th>\n",
       "      <th>ind_valo_fin_ult1</th>\n",
       "      <th>ind_viv_fin_ult1</th>\n",
       "      <th>ind_nomina_ult1</th>\n",
       "      <th>ind_nom_pens_ult1</th>\n",
       "      <th>ind_recibo_ult1</th>\n",
       "      <th>fecha_dato</th>\n",
       "      <th>ncodpers</th>\n",
       "    </tr>\n",
       "  </thead>\n",
       "  <tbody>\n",
       "    <tr>\n",
       "      <th>0</th>\n",
       "      <td>0</td>\n",
       "      <td>0</td>\n",
       "      <td>1</td>\n",
       "      <td>0</td>\n",
       "      <td>0</td>\n",
       "      <td>0</td>\n",
       "      <td>0</td>\n",
       "      <td>0</td>\n",
       "      <td>1</td>\n",
       "      <td>0</td>\n",
       "      <td>...</td>\n",
       "      <td>0</td>\n",
       "      <td>0</td>\n",
       "      <td>1</td>\n",
       "      <td>1</td>\n",
       "      <td>0</td>\n",
       "      <td>0</td>\n",
       "      <td>0</td>\n",
       "      <td>0</td>\n",
       "      <td>2015-01-28</td>\n",
       "      <td>15889</td>\n",
       "    </tr>\n",
       "    <tr>\n",
       "      <th>1</th>\n",
       "      <td>0</td>\n",
       "      <td>0</td>\n",
       "      <td>0</td>\n",
       "      <td>0</td>\n",
       "      <td>0</td>\n",
       "      <td>0</td>\n",
       "      <td>0</td>\n",
       "      <td>0</td>\n",
       "      <td>0</td>\n",
       "      <td>0</td>\n",
       "      <td>...</td>\n",
       "      <td>0</td>\n",
       "      <td>0</td>\n",
       "      <td>0</td>\n",
       "      <td>0</td>\n",
       "      <td>0</td>\n",
       "      <td>0</td>\n",
       "      <td>0</td>\n",
       "      <td>0</td>\n",
       "      <td>2015-02-28</td>\n",
       "      <td>15889</td>\n",
       "    </tr>\n",
       "    <tr>\n",
       "      <th>2</th>\n",
       "      <td>0</td>\n",
       "      <td>0</td>\n",
       "      <td>0</td>\n",
       "      <td>0</td>\n",
       "      <td>0</td>\n",
       "      <td>0</td>\n",
       "      <td>0</td>\n",
       "      <td>0</td>\n",
       "      <td>0</td>\n",
       "      <td>0</td>\n",
       "      <td>...</td>\n",
       "      <td>0</td>\n",
       "      <td>0</td>\n",
       "      <td>0</td>\n",
       "      <td>0</td>\n",
       "      <td>0</td>\n",
       "      <td>0</td>\n",
       "      <td>0</td>\n",
       "      <td>0</td>\n",
       "      <td>2015-03-28</td>\n",
       "      <td>15889</td>\n",
       "    </tr>\n",
       "    <tr>\n",
       "      <th>3</th>\n",
       "      <td>0</td>\n",
       "      <td>0</td>\n",
       "      <td>0</td>\n",
       "      <td>0</td>\n",
       "      <td>0</td>\n",
       "      <td>0</td>\n",
       "      <td>0</td>\n",
       "      <td>0</td>\n",
       "      <td>0</td>\n",
       "      <td>0</td>\n",
       "      <td>...</td>\n",
       "      <td>0</td>\n",
       "      <td>0</td>\n",
       "      <td>0</td>\n",
       "      <td>0</td>\n",
       "      <td>0</td>\n",
       "      <td>0</td>\n",
       "      <td>0</td>\n",
       "      <td>0</td>\n",
       "      <td>2015-04-28</td>\n",
       "      <td>15889</td>\n",
       "    </tr>\n",
       "    <tr>\n",
       "      <th>4</th>\n",
       "      <td>0</td>\n",
       "      <td>0</td>\n",
       "      <td>0</td>\n",
       "      <td>0</td>\n",
       "      <td>0</td>\n",
       "      <td>0</td>\n",
       "      <td>0</td>\n",
       "      <td>0</td>\n",
       "      <td>0</td>\n",
       "      <td>0</td>\n",
       "      <td>...</td>\n",
       "      <td>0</td>\n",
       "      <td>0</td>\n",
       "      <td>1</td>\n",
       "      <td>0</td>\n",
       "      <td>0</td>\n",
       "      <td>0</td>\n",
       "      <td>0</td>\n",
       "      <td>0</td>\n",
       "      <td>2015-05-28</td>\n",
       "      <td>15889</td>\n",
       "    </tr>\n",
       "    <tr>\n",
       "      <th>...</th>\n",
       "      <td>...</td>\n",
       "      <td>...</td>\n",
       "      <td>...</td>\n",
       "      <td>...</td>\n",
       "      <td>...</td>\n",
       "      <td>...</td>\n",
       "      <td>...</td>\n",
       "      <td>...</td>\n",
       "      <td>...</td>\n",
       "      <td>...</td>\n",
       "      <td>...</td>\n",
       "      <td>...</td>\n",
       "      <td>...</td>\n",
       "      <td>...</td>\n",
       "      <td>...</td>\n",
       "      <td>...</td>\n",
       "      <td>...</td>\n",
       "      <td>...</td>\n",
       "      <td>...</td>\n",
       "      <td>...</td>\n",
       "      <td>...</td>\n",
       "    </tr>\n",
       "    <tr>\n",
       "      <th>13619352</th>\n",
       "      <td>0</td>\n",
       "      <td>0</td>\n",
       "      <td>0</td>\n",
       "      <td>0</td>\n",
       "      <td>0</td>\n",
       "      <td>0</td>\n",
       "      <td>0</td>\n",
       "      <td>0</td>\n",
       "      <td>0</td>\n",
       "      <td>0</td>\n",
       "      <td>...</td>\n",
       "      <td>0</td>\n",
       "      <td>0</td>\n",
       "      <td>0</td>\n",
       "      <td>0</td>\n",
       "      <td>0</td>\n",
       "      <td>0</td>\n",
       "      <td>0</td>\n",
       "      <td>0</td>\n",
       "      <td>2016-05-28</td>\n",
       "      <td>1553685</td>\n",
       "    </tr>\n",
       "    <tr>\n",
       "      <th>13619353</th>\n",
       "      <td>0</td>\n",
       "      <td>0</td>\n",
       "      <td>0</td>\n",
       "      <td>0</td>\n",
       "      <td>0</td>\n",
       "      <td>0</td>\n",
       "      <td>0</td>\n",
       "      <td>0</td>\n",
       "      <td>0</td>\n",
       "      <td>0</td>\n",
       "      <td>...</td>\n",
       "      <td>0</td>\n",
       "      <td>0</td>\n",
       "      <td>0</td>\n",
       "      <td>0</td>\n",
       "      <td>0</td>\n",
       "      <td>0</td>\n",
       "      <td>0</td>\n",
       "      <td>0</td>\n",
       "      <td>2016-05-28</td>\n",
       "      <td>1553686</td>\n",
       "    </tr>\n",
       "    <tr>\n",
       "      <th>13619354</th>\n",
       "      <td>0</td>\n",
       "      <td>0</td>\n",
       "      <td>0</td>\n",
       "      <td>0</td>\n",
       "      <td>0</td>\n",
       "      <td>0</td>\n",
       "      <td>0</td>\n",
       "      <td>0</td>\n",
       "      <td>0</td>\n",
       "      <td>0</td>\n",
       "      <td>...</td>\n",
       "      <td>0</td>\n",
       "      <td>0</td>\n",
       "      <td>0</td>\n",
       "      <td>0</td>\n",
       "      <td>0</td>\n",
       "      <td>0</td>\n",
       "      <td>0</td>\n",
       "      <td>0</td>\n",
       "      <td>2016-05-28</td>\n",
       "      <td>1553687</td>\n",
       "    </tr>\n",
       "    <tr>\n",
       "      <th>13619355</th>\n",
       "      <td>0</td>\n",
       "      <td>0</td>\n",
       "      <td>0</td>\n",
       "      <td>0</td>\n",
       "      <td>0</td>\n",
       "      <td>0</td>\n",
       "      <td>0</td>\n",
       "      <td>0</td>\n",
       "      <td>0</td>\n",
       "      <td>0</td>\n",
       "      <td>...</td>\n",
       "      <td>0</td>\n",
       "      <td>0</td>\n",
       "      <td>0</td>\n",
       "      <td>0</td>\n",
       "      <td>0</td>\n",
       "      <td>0</td>\n",
       "      <td>0</td>\n",
       "      <td>0</td>\n",
       "      <td>2016-05-28</td>\n",
       "      <td>1553688</td>\n",
       "    </tr>\n",
       "    <tr>\n",
       "      <th>13619356</th>\n",
       "      <td>0</td>\n",
       "      <td>0</td>\n",
       "      <td>0</td>\n",
       "      <td>0</td>\n",
       "      <td>0</td>\n",
       "      <td>0</td>\n",
       "      <td>0</td>\n",
       "      <td>0</td>\n",
       "      <td>0</td>\n",
       "      <td>0</td>\n",
       "      <td>...</td>\n",
       "      <td>0</td>\n",
       "      <td>0</td>\n",
       "      <td>0</td>\n",
       "      <td>0</td>\n",
       "      <td>0</td>\n",
       "      <td>0</td>\n",
       "      <td>0</td>\n",
       "      <td>0</td>\n",
       "      <td>2016-05-28</td>\n",
       "      <td>1553689</td>\n",
       "    </tr>\n",
       "  </tbody>\n",
       "</table>\n",
       "<p>13619357 rows × 26 columns</p>\n",
       "</div>"
      ],
      "text/plain": [
       "          ind_ahor_fin_ult1  ind_aval_fin_ult1  ind_cco_fin_ult1  \\\n",
       "0                         0                  0                 1   \n",
       "1                         0                  0                 0   \n",
       "2                         0                  0                 0   \n",
       "3                         0                  0                 0   \n",
       "4                         0                  0                 0   \n",
       "...                     ...                ...               ...   \n",
       "13619352                  0                  0                 0   \n",
       "13619353                  0                  0                 0   \n",
       "13619354                  0                  0                 0   \n",
       "13619355                  0                  0                 0   \n",
       "13619356                  0                  0                 0   \n",
       "\n",
       "          ind_cder_fin_ult1  ind_cno_fin_ult1  ind_ctju_fin_ult1  \\\n",
       "0                         0                 0                  0   \n",
       "1                         0                 0                  0   \n",
       "2                         0                 0                  0   \n",
       "3                         0                 0                  0   \n",
       "4                         0                 0                  0   \n",
       "...                     ...               ...                ...   \n",
       "13619352                  0                 0                  0   \n",
       "13619353                  0                 0                  0   \n",
       "13619354                  0                 0                  0   \n",
       "13619355                  0                 0                  0   \n",
       "13619356                  0                 0                  0   \n",
       "\n",
       "          ind_ctma_fin_ult1  ind_ctop_fin_ult1  ind_ctpp_fin_ult1  \\\n",
       "0                         0                  0                  1   \n",
       "1                         0                  0                  0   \n",
       "2                         0                  0                  0   \n",
       "3                         0                  0                  0   \n",
       "4                         0                  0                  0   \n",
       "...                     ...                ...                ...   \n",
       "13619352                  0                  0                  0   \n",
       "13619353                  0                  0                  0   \n",
       "13619354                  0                  0                  0   \n",
       "13619355                  0                  0                  0   \n",
       "13619356                  0                  0                  0   \n",
       "\n",
       "          ind_deco_fin_ult1  ...  ind_pres_fin_ult1  ind_reca_fin_ult1  \\\n",
       "0                         0  ...                  0                  0   \n",
       "1                         0  ...                  0                  0   \n",
       "2                         0  ...                  0                  0   \n",
       "3                         0  ...                  0                  0   \n",
       "4                         0  ...                  0                  0   \n",
       "...                     ...  ...                ...                ...   \n",
       "13619352                  0  ...                  0                  0   \n",
       "13619353                  0  ...                  0                  0   \n",
       "13619354                  0  ...                  0                  0   \n",
       "13619355                  0  ...                  0                  0   \n",
       "13619356                  0  ...                  0                  0   \n",
       "\n",
       "          ind_tjcr_fin_ult1  ind_valo_fin_ult1  ind_viv_fin_ult1  \\\n",
       "0                         1                  1                 0   \n",
       "1                         0                  0                 0   \n",
       "2                         0                  0                 0   \n",
       "3                         0                  0                 0   \n",
       "4                         1                  0                 0   \n",
       "...                     ...                ...               ...   \n",
       "13619352                  0                  0                 0   \n",
       "13619353                  0                  0                 0   \n",
       "13619354                  0                  0                 0   \n",
       "13619355                  0                  0                 0   \n",
       "13619356                  0                  0                 0   \n",
       "\n",
       "          ind_nomina_ult1  ind_nom_pens_ult1  ind_recibo_ult1  fecha_dato  \\\n",
       "0                       0                  0                0  2015-01-28   \n",
       "1                       0                  0                0  2015-02-28   \n",
       "2                       0                  0                0  2015-03-28   \n",
       "3                       0                  0                0  2015-04-28   \n",
       "4                       0                  0                0  2015-05-28   \n",
       "...                   ...                ...              ...         ...   \n",
       "13619352                0                  0                0  2016-05-28   \n",
       "13619353                0                  0                0  2016-05-28   \n",
       "13619354                0                  0                0  2016-05-28   \n",
       "13619355                0                  0                0  2016-05-28   \n",
       "13619356                0                  0                0  2016-05-28   \n",
       "\n",
       "          ncodpers  \n",
       "0            15889  \n",
       "1            15889  \n",
       "2            15889  \n",
       "3            15889  \n",
       "4            15889  \n",
       "...            ...  \n",
       "13619352   1553685  \n",
       "13619353   1553686  \n",
       "13619354   1553687  \n",
       "13619355   1553688  \n",
       "13619356   1553689  \n",
       "\n",
       "[13619357 rows x 26 columns]"
      ]
     },
     "execution_count": 9,
     "metadata": {},
     "output_type": "execute_result"
    }
   ],
   "source": [
    "product_diff = pd.read_csv('data/product_diff.csv')\n",
    "product_diff"
   ]
  },
  {
   "cell_type": "markdown",
   "id": "c139984f",
   "metadata": {},
   "source": [
    "#### Create the Collaborative Filter DataFrame\n",
    "\n",
    "**How It’s Used Here**\n",
    "\n",
    "- We treat each (user, product) pair where product was added as an interaction.\n",
    "\n",
    "- The data is reshaped into a long format:\n",
    "\n",
    "        ncodpers | fecha_dato | product | added\n",
    "\n",
    "        111111   | 2015-02    | prod_1  |   1\n",
    "\n",
    "        111111   | 2015-03    | prod_4  |   1\n",
    "\n",
    "- Only rows where added == 1 are kept — these represent positive feedback.\n",
    "\n",
    "- CF model (using surprise library’s KNNBasic) is trained on this data:\n",
    "\n",
    "    - **Similarity metric**: cosine similarity\n",
    "\n",
    "    - **Mod**e: user-based or item-based depending on sim_options"
   ]
  },
  {
   "cell_type": "code",
   "execution_count": 24,
   "id": "a1d34051",
   "metadata": {},
   "outputs": [],
   "source": [
    "# List of product columns (excluding ID columns)\n",
    "product_cols = product_diff.columns.difference(['ncodpers', 'fecha_dato'])\n",
    "\n",
    "# Parameters\n",
    "chunk_size = 6  # number of product columns per chunk\n",
    "chunks = [product_cols[i:i+chunk_size] for i in range(0, len(product_cols), chunk_size)]\n",
    "\n",
    "# Container for melted pieces\n",
    "melted_parts = []\n",
    "\n",
    "# Iterate over product column chunks\n",
    "for cols in chunks:\n",
    "    # Subset DataFrame\n",
    "    temp_df = product_diff[['ncodpers', 'fecha_dato'] + list(cols)].copy()\n",
    "\n",
    "    # Melt this chunk\n",
    "    melted = temp_df.melt(\n",
    "        id_vars=['ncodpers', 'fecha_dato'],\n",
    "        var_name='product',\n",
    "        value_name='added'\n",
    "    )\n",
    "\n",
    "    # Filter only added products\n",
    "    melted = melted[melted['added'] == 1]\n",
    "\n",
    "    # Store result\n",
    "    melted_parts.append(melted)\n",
    "\n",
    "    # Clear memory\n",
    "    del temp_df, melted\n",
    "    import gc; gc.collect()\n",
    "\n",
    "# Concatenate all melted chunks\n",
    "df_cf = pd.concat(melted_parts, ignore_index=True)"
   ]
  },
  {
   "cell_type": "code",
   "execution_count": 4,
   "id": "44486bda",
   "metadata": {},
   "outputs": [
    {
     "data": {
      "text/html": [
       "<div>\n",
       "<style scoped>\n",
       "    .dataframe tbody tr th:only-of-type {\n",
       "        vertical-align: middle;\n",
       "    }\n",
       "\n",
       "    .dataframe tbody tr th {\n",
       "        vertical-align: top;\n",
       "    }\n",
       "\n",
       "    .dataframe thead th {\n",
       "        text-align: right;\n",
       "    }\n",
       "</style>\n",
       "<table border=\"1\" class=\"dataframe\">\n",
       "  <thead>\n",
       "    <tr style=\"text-align: right;\">\n",
       "      <th></th>\n",
       "      <th>ncodpers</th>\n",
       "      <th>fecha_dato</th>\n",
       "      <th>product</th>\n",
       "      <th>added</th>\n",
       "    </tr>\n",
       "  </thead>\n",
       "  <tbody>\n",
       "    <tr>\n",
       "      <th>0</th>\n",
       "      <td>16846</td>\n",
       "      <td>2015-01-28</td>\n",
       "      <td>ind_ahor_fin_ult1</td>\n",
       "      <td>1</td>\n",
       "    </tr>\n",
       "    <tr>\n",
       "      <th>1</th>\n",
       "      <td>20387</td>\n",
       "      <td>2015-01-28</td>\n",
       "      <td>ind_ahor_fin_ult1</td>\n",
       "      <td>1</td>\n",
       "    </tr>\n",
       "    <tr>\n",
       "      <th>2</th>\n",
       "      <td>27354</td>\n",
       "      <td>2015-01-28</td>\n",
       "      <td>ind_ahor_fin_ult1</td>\n",
       "      <td>1</td>\n",
       "    </tr>\n",
       "    <tr>\n",
       "      <th>3</th>\n",
       "      <td>32666</td>\n",
       "      <td>2015-01-28</td>\n",
       "      <td>ind_ahor_fin_ult1</td>\n",
       "      <td>1</td>\n",
       "    </tr>\n",
       "    <tr>\n",
       "      <th>4</th>\n",
       "      <td>39230</td>\n",
       "      <td>2015-01-28</td>\n",
       "      <td>ind_ahor_fin_ult1</td>\n",
       "      <td>1</td>\n",
       "    </tr>\n",
       "    <tr>\n",
       "      <th>...</th>\n",
       "      <td>...</td>\n",
       "      <td>...</td>\n",
       "      <td>...</td>\n",
       "      <td>...</td>\n",
       "    </tr>\n",
       "    <tr>\n",
       "      <th>1770850</th>\n",
       "      <td>1045975</td>\n",
       "      <td>2015-12-28</td>\n",
       "      <td>ind_viv_fin_ult1</td>\n",
       "      <td>1</td>\n",
       "    </tr>\n",
       "    <tr>\n",
       "      <th>1770851</th>\n",
       "      <td>1117851</td>\n",
       "      <td>2015-01-28</td>\n",
       "      <td>ind_viv_fin_ult1</td>\n",
       "      <td>1</td>\n",
       "    </tr>\n",
       "    <tr>\n",
       "      <th>1770852</th>\n",
       "      <td>1464311</td>\n",
       "      <td>2016-01-28</td>\n",
       "      <td>ind_viv_fin_ult1</td>\n",
       "      <td>1</td>\n",
       "    </tr>\n",
       "    <tr>\n",
       "      <th>1770853</th>\n",
       "      <td>1500806</td>\n",
       "      <td>2015-12-28</td>\n",
       "      <td>ind_viv_fin_ult1</td>\n",
       "      <td>1</td>\n",
       "    </tr>\n",
       "    <tr>\n",
       "      <th>1770854</th>\n",
       "      <td>1508643</td>\n",
       "      <td>2015-12-28</td>\n",
       "      <td>ind_viv_fin_ult1</td>\n",
       "      <td>1</td>\n",
       "    </tr>\n",
       "  </tbody>\n",
       "</table>\n",
       "<p>1770855 rows × 4 columns</p>\n",
       "</div>"
      ],
      "text/plain": [
       "         ncodpers  fecha_dato            product  added\n",
       "0           16846  2015-01-28  ind_ahor_fin_ult1      1\n",
       "1           20387  2015-01-28  ind_ahor_fin_ult1      1\n",
       "2           27354  2015-01-28  ind_ahor_fin_ult1      1\n",
       "3           32666  2015-01-28  ind_ahor_fin_ult1      1\n",
       "4           39230  2015-01-28  ind_ahor_fin_ult1      1\n",
       "...           ...         ...                ...    ...\n",
       "1770850   1045975  2015-12-28   ind_viv_fin_ult1      1\n",
       "1770851   1117851  2015-01-28   ind_viv_fin_ult1      1\n",
       "1770852   1464311  2016-01-28   ind_viv_fin_ult1      1\n",
       "1770853   1500806  2015-12-28   ind_viv_fin_ult1      1\n",
       "1770854   1508643  2015-12-28   ind_viv_fin_ult1      1\n",
       "\n",
       "[1770855 rows x 4 columns]"
      ]
     },
     "execution_count": 4,
     "metadata": {},
     "output_type": "execute_result"
    }
   ],
   "source": [
    "df_cf"
   ]
  },
  {
   "cell_type": "markdown",
   "id": "7ab2acb6",
   "metadata": {},
   "source": [
    "#### Create the training Set and test Set"
   ]
  },
  {
   "cell_type": "code",
   "execution_count": 25,
   "id": "09b76008",
   "metadata": {},
   "outputs": [],
   "source": [
    "cutoff = '2016-05-28'   # example\n",
    "test_month = '2016-05-28'\n",
    "\n",
    "train_inter = df_cf[df_cf['fecha_dato'] < cutoff].copy()\n",
    "test_inter  = df_cf[df_cf['fecha_dato'] == test_month].copy()   # ground truth"
   ]
  },
  {
   "cell_type": "code",
   "execution_count": 26,
   "id": "7cfa0c23",
   "metadata": {},
   "outputs": [
    {
     "ename": "TypeError",
     "evalue": "\"value\" parameter must be a scalar or dict, but you passed a \"list\"",
     "output_type": "error",
     "traceback": [
      "\u001b[0;31m---------------------------------------------------------------------------\u001b[0m",
      "\u001b[0;31mTypeError\u001b[0m                                 Traceback (most recent call last)",
      "Cell \u001b[0;32mIn [26], line 2\u001b[0m\n\u001b[1;32m      1\u001b[0m truth \u001b[38;5;241m=\u001b[39m (\n\u001b[0;32m----> 2\u001b[0m     \u001b[43mtest_inter\u001b[49m\u001b[38;5;241;43m.\u001b[39;49m\u001b[43mgroupby\u001b[49m\u001b[43m(\u001b[49m\u001b[38;5;124;43m'\u001b[39;49m\u001b[38;5;124;43mncodpers\u001b[39;49m\u001b[38;5;124;43m'\u001b[39;49m\u001b[43m)\u001b[49m\u001b[43m[\u001b[49m\u001b[38;5;124;43m'\u001b[39;49m\u001b[38;5;124;43mproduct\u001b[39;49m\u001b[38;5;124;43m'\u001b[39;49m\u001b[43m]\u001b[49m\n\u001b[1;32m      3\u001b[0m \u001b[43m    \u001b[49m\u001b[38;5;241;43m.\u001b[39;49m\u001b[43mapply\u001b[49m\u001b[43m(\u001b[49m\u001b[38;5;28;43mlist\u001b[39;49m\u001b[43m)\u001b[49m\u001b[43m  \u001b[49m\u001b[38;5;66;43;03m# list of products per user\u001b[39;49;00m\n\u001b[1;32m      4\u001b[0m \u001b[43m    \u001b[49m\u001b[38;5;241;43m.\u001b[39;49m\u001b[43mreindex\u001b[49m\u001b[43m(\u001b[49m\u001b[43mbaseline_preds\u001b[49m\u001b[43m[\u001b[49m\u001b[38;5;124;43m'\u001b[39;49m\u001b[38;5;124;43mncodpers\u001b[39;49m\u001b[38;5;124;43m'\u001b[39;49m\u001b[43m]\u001b[49m\u001b[43m)\u001b[49m\u001b[43m  \u001b[49m\u001b[38;5;66;43;03m# align order with predictions\u001b[39;49;00m\n\u001b[1;32m      5\u001b[0m \u001b[43m    \u001b[49m\u001b[38;5;241;43m.\u001b[39;49m\u001b[43mfillna\u001b[49m\u001b[43m(\u001b[49m\u001b[43m[\u001b[49m\u001b[43m]\u001b[49m\u001b[43m)\u001b[49m  \u001b[38;5;66;03m# if user has no new products\u001b[39;00m\n\u001b[1;32m      6\u001b[0m     \u001b[38;5;241m.\u001b[39mtolist()    \u001b[38;5;66;03m# final: list of lists\u001b[39;00m\n\u001b[1;32m      7\u001b[0m )\n",
      "File \u001b[0;32m/opt/miniconda3/lib/python3.8/site-packages/pandas/util/_decorators.py:331\u001b[0m, in \u001b[0;36mdeprecate_nonkeyword_arguments.<locals>.decorate.<locals>.wrapper\u001b[0;34m(*args, **kwargs)\u001b[0m\n\u001b[1;32m    325\u001b[0m \u001b[38;5;28;01mif\u001b[39;00m \u001b[38;5;28mlen\u001b[39m(args) \u001b[38;5;241m>\u001b[39m num_allow_args:\n\u001b[1;32m    326\u001b[0m     warnings\u001b[38;5;241m.\u001b[39mwarn(\n\u001b[1;32m    327\u001b[0m         msg\u001b[38;5;241m.\u001b[39mformat(arguments\u001b[38;5;241m=\u001b[39m_format_argument_list(allow_args)),\n\u001b[1;32m    328\u001b[0m         \u001b[38;5;167;01mFutureWarning\u001b[39;00m,\n\u001b[1;32m    329\u001b[0m         stacklevel\u001b[38;5;241m=\u001b[39mfind_stack_level(),\n\u001b[1;32m    330\u001b[0m     )\n\u001b[0;32m--> 331\u001b[0m \u001b[38;5;28;01mreturn\u001b[39;00m \u001b[43mfunc\u001b[49m\u001b[43m(\u001b[49m\u001b[38;5;241;43m*\u001b[39;49m\u001b[43margs\u001b[49m\u001b[43m,\u001b[49m\u001b[43m \u001b[49m\u001b[38;5;241;43m*\u001b[39;49m\u001b[38;5;241;43m*\u001b[39;49m\u001b[43mkwargs\u001b[49m\u001b[43m)\u001b[49m\n",
      "File \u001b[0;32m/opt/miniconda3/lib/python3.8/site-packages/pandas/core/series.py:5298\u001b[0m, in \u001b[0;36mSeries.fillna\u001b[0;34m(self, value, method, axis, inplace, limit, downcast)\u001b[0m\n\u001b[1;32m   5287\u001b[0m \u001b[38;5;129m@deprecate_nonkeyword_arguments\u001b[39m(version\u001b[38;5;241m=\u001b[39m\u001b[38;5;28;01mNone\u001b[39;00m, allowed_args\u001b[38;5;241m=\u001b[39m[\u001b[38;5;124m\"\u001b[39m\u001b[38;5;124mself\u001b[39m\u001b[38;5;124m\"\u001b[39m, \u001b[38;5;124m\"\u001b[39m\u001b[38;5;124mvalue\u001b[39m\u001b[38;5;124m\"\u001b[39m])\n\u001b[1;32m   5288\u001b[0m \u001b[38;5;129m@doc\u001b[39m(NDFrame\u001b[38;5;241m.\u001b[39mfillna, \u001b[38;5;241m*\u001b[39m\u001b[38;5;241m*\u001b[39m_shared_doc_kwargs)\n\u001b[1;32m   5289\u001b[0m \u001b[38;5;28;01mdef\u001b[39;00m \u001b[38;5;21mfillna\u001b[39m(  \u001b[38;5;66;03m# type: ignore[override]\u001b[39;00m\n\u001b[0;32m   (...)\u001b[0m\n\u001b[1;32m   5296\u001b[0m     downcast: \u001b[38;5;28mdict\u001b[39m \u001b[38;5;241m|\u001b[39m \u001b[38;5;28;01mNone\u001b[39;00m \u001b[38;5;241m=\u001b[39m \u001b[38;5;28;01mNone\u001b[39;00m,\n\u001b[1;32m   5297\u001b[0m ) \u001b[38;5;241m-\u001b[39m\u001b[38;5;241m>\u001b[39m Series \u001b[38;5;241m|\u001b[39m \u001b[38;5;28;01mNone\u001b[39;00m:\n\u001b[0;32m-> 5298\u001b[0m     \u001b[38;5;28;01mreturn\u001b[39;00m \u001b[38;5;28;43msuper\u001b[39;49m\u001b[43m(\u001b[49m\u001b[43m)\u001b[49m\u001b[38;5;241;43m.\u001b[39;49m\u001b[43mfillna\u001b[49m\u001b[43m(\u001b[49m\n\u001b[1;32m   5299\u001b[0m \u001b[43m        \u001b[49m\u001b[43mvalue\u001b[49m\u001b[38;5;241;43m=\u001b[39;49m\u001b[43mvalue\u001b[49m\u001b[43m,\u001b[49m\n\u001b[1;32m   5300\u001b[0m \u001b[43m        \u001b[49m\u001b[43mmethod\u001b[49m\u001b[38;5;241;43m=\u001b[39;49m\u001b[43mmethod\u001b[49m\u001b[43m,\u001b[49m\n\u001b[1;32m   5301\u001b[0m \u001b[43m        \u001b[49m\u001b[43maxis\u001b[49m\u001b[38;5;241;43m=\u001b[39;49m\u001b[43maxis\u001b[49m\u001b[43m,\u001b[49m\n\u001b[1;32m   5302\u001b[0m \u001b[43m        \u001b[49m\u001b[43minplace\u001b[49m\u001b[38;5;241;43m=\u001b[39;49m\u001b[43minplace\u001b[49m\u001b[43m,\u001b[49m\n\u001b[1;32m   5303\u001b[0m \u001b[43m        \u001b[49m\u001b[43mlimit\u001b[49m\u001b[38;5;241;43m=\u001b[39;49m\u001b[43mlimit\u001b[49m\u001b[43m,\u001b[49m\n\u001b[1;32m   5304\u001b[0m \u001b[43m        \u001b[49m\u001b[43mdowncast\u001b[49m\u001b[38;5;241;43m=\u001b[39;49m\u001b[43mdowncast\u001b[49m\u001b[43m,\u001b[49m\n\u001b[1;32m   5305\u001b[0m \u001b[43m    \u001b[49m\u001b[43m)\u001b[49m\n",
      "File \u001b[0;32m/opt/miniconda3/lib/python3.8/site-packages/pandas/core/generic.py:6795\u001b[0m, in \u001b[0;36mNDFrame.fillna\u001b[0;34m(self, value, method, axis, inplace, limit, downcast)\u001b[0m\n\u001b[1;32m   6684\u001b[0m \u001b[38;5;124;03m\"\"\"\u001b[39;00m\n\u001b[1;32m   6685\u001b[0m \u001b[38;5;124;03mFill NA/NaN values using the specified method.\u001b[39;00m\n\u001b[1;32m   6686\u001b[0m \n\u001b[0;32m   (...)\u001b[0m\n\u001b[1;32m   6792\u001b[0m \u001b[38;5;124;03mNote that column D is not affected since it is not present in df2.\u001b[39;00m\n\u001b[1;32m   6793\u001b[0m \u001b[38;5;124;03m\"\"\"\u001b[39;00m\n\u001b[1;32m   6794\u001b[0m inplace \u001b[38;5;241m=\u001b[39m validate_bool_kwarg(inplace, \u001b[38;5;124m\"\u001b[39m\u001b[38;5;124minplace\u001b[39m\u001b[38;5;124m\"\u001b[39m)\n\u001b[0;32m-> 6795\u001b[0m value, method \u001b[38;5;241m=\u001b[39m \u001b[43mvalidate_fillna_kwargs\u001b[49m\u001b[43m(\u001b[49m\u001b[43mvalue\u001b[49m\u001b[43m,\u001b[49m\u001b[43m \u001b[49m\u001b[43mmethod\u001b[49m\u001b[43m)\u001b[49m\n\u001b[1;32m   6797\u001b[0m \u001b[38;5;28mself\u001b[39m\u001b[38;5;241m.\u001b[39m_consolidate_inplace()\n\u001b[1;32m   6799\u001b[0m \u001b[38;5;66;03m# set the default here, so functions examining the signaure\u001b[39;00m\n\u001b[1;32m   6800\u001b[0m \u001b[38;5;66;03m# can detect if something was set (e.g. in groupby) (GH9221)\u001b[39;00m\n",
      "File \u001b[0;32m/opt/miniconda3/lib/python3.8/site-packages/pandas/util/_validators.py:394\u001b[0m, in \u001b[0;36mvalidate_fillna_kwargs\u001b[0;34m(value, method, validate_scalar_dict_value)\u001b[0m\n\u001b[1;32m    392\u001b[0m \u001b[38;5;28;01melif\u001b[39;00m value \u001b[38;5;129;01mis\u001b[39;00m \u001b[38;5;129;01mnot\u001b[39;00m \u001b[38;5;28;01mNone\u001b[39;00m \u001b[38;5;129;01mand\u001b[39;00m method \u001b[38;5;129;01mis\u001b[39;00m \u001b[38;5;28;01mNone\u001b[39;00m:\n\u001b[1;32m    393\u001b[0m     \u001b[38;5;28;01mif\u001b[39;00m validate_scalar_dict_value \u001b[38;5;129;01mand\u001b[39;00m \u001b[38;5;28misinstance\u001b[39m(value, (\u001b[38;5;28mlist\u001b[39m, \u001b[38;5;28mtuple\u001b[39m)):\n\u001b[0;32m--> 394\u001b[0m         \u001b[38;5;28;01mraise\u001b[39;00m \u001b[38;5;167;01mTypeError\u001b[39;00m(\n\u001b[1;32m    395\u001b[0m             \u001b[38;5;124m'\u001b[39m\u001b[38;5;124m\"\u001b[39m\u001b[38;5;124mvalue\u001b[39m\u001b[38;5;124m\"\u001b[39m\u001b[38;5;124m parameter must be a scalar or dict, but \u001b[39m\u001b[38;5;124m'\u001b[39m\n\u001b[1;32m    396\u001b[0m             \u001b[38;5;124mf\u001b[39m\u001b[38;5;124m'\u001b[39m\u001b[38;5;124myou passed a \u001b[39m\u001b[38;5;124m\"\u001b[39m\u001b[38;5;132;01m{\u001b[39;00m\u001b[38;5;28mtype\u001b[39m(value)\u001b[38;5;241m.\u001b[39m\u001b[38;5;18m__name__\u001b[39m\u001b[38;5;132;01m}\u001b[39;00m\u001b[38;5;124m\"\u001b[39m\u001b[38;5;124m'\u001b[39m\n\u001b[1;32m    397\u001b[0m         )\n\u001b[1;32m    399\u001b[0m \u001b[38;5;28;01melif\u001b[39;00m value \u001b[38;5;129;01mis\u001b[39;00m \u001b[38;5;129;01mnot\u001b[39;00m \u001b[38;5;28;01mNone\u001b[39;00m \u001b[38;5;129;01mand\u001b[39;00m method \u001b[38;5;129;01mis\u001b[39;00m \u001b[38;5;129;01mnot\u001b[39;00m \u001b[38;5;28;01mNone\u001b[39;00m:\n\u001b[1;32m    400\u001b[0m     \u001b[38;5;28;01mraise\u001b[39;00m \u001b[38;5;167;01mValueError\u001b[39;00m(\u001b[38;5;124m\"\u001b[39m\u001b[38;5;124mCannot specify both \u001b[39m\u001b[38;5;124m'\u001b[39m\u001b[38;5;124mvalue\u001b[39m\u001b[38;5;124m'\u001b[39m\u001b[38;5;124m and \u001b[39m\u001b[38;5;124m'\u001b[39m\u001b[38;5;124mmethod\u001b[39m\u001b[38;5;124m'\u001b[39m\u001b[38;5;124m.\u001b[39m\u001b[38;5;124m\"\u001b[39m)\n",
      "\u001b[0;31mTypeError\u001b[0m: \"value\" parameter must be a scalar or dict, but you passed a \"list\""
     ]
    }
   ],
   "source": [
    "truth = (\n",
    "    test_inter.groupby('ncodpers')['product']\n",
    "    .apply(list)  # list of products per user\n",
    "    .reindex(baseline_preds['ncodpers'])  # align order with predictions\n",
    "    .fillna([])  # if user has no new products\n",
    "    .tolist()    # final: list of lists\n",
    ")"
   ]
  },
  {
   "cell_type": "code",
   "execution_count": 28,
   "id": "a85ca9ec",
   "metadata": {},
   "outputs": [
    {
     "data": {
      "text/html": [
       "<div>\n",
       "<style scoped>\n",
       "    .dataframe tbody tr th:only-of-type {\n",
       "        vertical-align: middle;\n",
       "    }\n",
       "\n",
       "    .dataframe tbody tr th {\n",
       "        vertical-align: top;\n",
       "    }\n",
       "\n",
       "    .dataframe thead th {\n",
       "        text-align: right;\n",
       "    }\n",
       "</style>\n",
       "<table border=\"1\" class=\"dataframe\">\n",
       "  <thead>\n",
       "    <tr style=\"text-align: right;\">\n",
       "      <th></th>\n",
       "      <th>ncodpers</th>\n",
       "      <th>fecha_dato</th>\n",
       "      <th>product</th>\n",
       "      <th>added</th>\n",
       "    </tr>\n",
       "  </thead>\n",
       "  <tbody>\n",
       "    <tr>\n",
       "      <th>0</th>\n",
       "      <td>16846</td>\n",
       "      <td>2015-01-28</td>\n",
       "      <td>ind_ahor_fin_ult1</td>\n",
       "      <td>1</td>\n",
       "    </tr>\n",
       "    <tr>\n",
       "      <th>1</th>\n",
       "      <td>20387</td>\n",
       "      <td>2015-01-28</td>\n",
       "      <td>ind_ahor_fin_ult1</td>\n",
       "      <td>1</td>\n",
       "    </tr>\n",
       "    <tr>\n",
       "      <th>2</th>\n",
       "      <td>27354</td>\n",
       "      <td>2015-01-28</td>\n",
       "      <td>ind_ahor_fin_ult1</td>\n",
       "      <td>1</td>\n",
       "    </tr>\n",
       "    <tr>\n",
       "      <th>3</th>\n",
       "      <td>32666</td>\n",
       "      <td>2015-01-28</td>\n",
       "      <td>ind_ahor_fin_ult1</td>\n",
       "      <td>1</td>\n",
       "    </tr>\n",
       "    <tr>\n",
       "      <th>4</th>\n",
       "      <td>39230</td>\n",
       "      <td>2015-01-28</td>\n",
       "      <td>ind_ahor_fin_ult1</td>\n",
       "      <td>1</td>\n",
       "    </tr>\n",
       "    <tr>\n",
       "      <th>...</th>\n",
       "      <td>...</td>\n",
       "      <td>...</td>\n",
       "      <td>...</td>\n",
       "      <td>...</td>\n",
       "    </tr>\n",
       "    <tr>\n",
       "      <th>1770850</th>\n",
       "      <td>1045975</td>\n",
       "      <td>2015-12-28</td>\n",
       "      <td>ind_viv_fin_ult1</td>\n",
       "      <td>1</td>\n",
       "    </tr>\n",
       "    <tr>\n",
       "      <th>1770851</th>\n",
       "      <td>1117851</td>\n",
       "      <td>2015-01-28</td>\n",
       "      <td>ind_viv_fin_ult1</td>\n",
       "      <td>1</td>\n",
       "    </tr>\n",
       "    <tr>\n",
       "      <th>1770852</th>\n",
       "      <td>1464311</td>\n",
       "      <td>2016-01-28</td>\n",
       "      <td>ind_viv_fin_ult1</td>\n",
       "      <td>1</td>\n",
       "    </tr>\n",
       "    <tr>\n",
       "      <th>1770853</th>\n",
       "      <td>1500806</td>\n",
       "      <td>2015-12-28</td>\n",
       "      <td>ind_viv_fin_ult1</td>\n",
       "      <td>1</td>\n",
       "    </tr>\n",
       "    <tr>\n",
       "      <th>1770854</th>\n",
       "      <td>1508643</td>\n",
       "      <td>2015-12-28</td>\n",
       "      <td>ind_viv_fin_ult1</td>\n",
       "      <td>1</td>\n",
       "    </tr>\n",
       "  </tbody>\n",
       "</table>\n",
       "<p>1732961 rows × 4 columns</p>\n",
       "</div>"
      ],
      "text/plain": [
       "         ncodpers  fecha_dato            product  added\n",
       "0           16846  2015-01-28  ind_ahor_fin_ult1      1\n",
       "1           20387  2015-01-28  ind_ahor_fin_ult1      1\n",
       "2           27354  2015-01-28  ind_ahor_fin_ult1      1\n",
       "3           32666  2015-01-28  ind_ahor_fin_ult1      1\n",
       "4           39230  2015-01-28  ind_ahor_fin_ult1      1\n",
       "...           ...         ...                ...    ...\n",
       "1770850   1045975  2015-12-28   ind_viv_fin_ult1      1\n",
       "1770851   1117851  2015-01-28   ind_viv_fin_ult1      1\n",
       "1770852   1464311  2016-01-28   ind_viv_fin_ult1      1\n",
       "1770853   1500806  2015-12-28   ind_viv_fin_ult1      1\n",
       "1770854   1508643  2015-12-28   ind_viv_fin_ult1      1\n",
       "\n",
       "[1732961 rows x 4 columns]"
      ]
     },
     "execution_count": 28,
     "metadata": {},
     "output_type": "execute_result"
    }
   ],
   "source": [
    "train_inter"
   ]
  },
  {
   "cell_type": "code",
   "execution_count": 29,
   "id": "59308241",
   "metadata": {},
   "outputs": [
    {
     "data": {
      "text/html": [
       "<div>\n",
       "<style scoped>\n",
       "    .dataframe tbody tr th:only-of-type {\n",
       "        vertical-align: middle;\n",
       "    }\n",
       "\n",
       "    .dataframe tbody tr th {\n",
       "        vertical-align: top;\n",
       "    }\n",
       "\n",
       "    .dataframe thead th {\n",
       "        text-align: right;\n",
       "    }\n",
       "</style>\n",
       "<table border=\"1\" class=\"dataframe\">\n",
       "  <thead>\n",
       "    <tr style=\"text-align: right;\">\n",
       "      <th></th>\n",
       "      <th>ncodpers</th>\n",
       "      <th>fecha_dato</th>\n",
       "      <th>product</th>\n",
       "      <th>added</th>\n",
       "    </tr>\n",
       "  </thead>\n",
       "  <tbody>\n",
       "    <tr>\n",
       "      <th>34</th>\n",
       "      <td>194160</td>\n",
       "      <td>2016-05-28</td>\n",
       "      <td>ind_ahor_fin_ult1</td>\n",
       "      <td>1</td>\n",
       "    </tr>\n",
       "    <tr>\n",
       "      <th>479</th>\n",
       "      <td>16857</td>\n",
       "      <td>2016-05-28</td>\n",
       "      <td>ind_cco_fin_ult1</td>\n",
       "      <td>1</td>\n",
       "    </tr>\n",
       "    <tr>\n",
       "      <th>660</th>\n",
       "      <td>17458</td>\n",
       "      <td>2016-05-28</td>\n",
       "      <td>ind_cco_fin_ult1</td>\n",
       "      <td>1</td>\n",
       "    </tr>\n",
       "    <tr>\n",
       "      <th>858</th>\n",
       "      <td>18072</td>\n",
       "      <td>2016-05-28</td>\n",
       "      <td>ind_cco_fin_ult1</td>\n",
       "      <td>1</td>\n",
       "    </tr>\n",
       "    <tr>\n",
       "      <th>911</th>\n",
       "      <td>18231</td>\n",
       "      <td>2016-05-28</td>\n",
       "      <td>ind_cco_fin_ult1</td>\n",
       "      <td>1</td>\n",
       "    </tr>\n",
       "    <tr>\n",
       "      <th>...</th>\n",
       "      <td>...</td>\n",
       "      <td>...</td>\n",
       "      <td>...</td>\n",
       "      <td>...</td>\n",
       "    </tr>\n",
       "    <tr>\n",
       "      <th>1769309</th>\n",
       "      <td>324180</td>\n",
       "      <td>2016-05-28</td>\n",
       "      <td>ind_viv_fin_ult1</td>\n",
       "      <td>1</td>\n",
       "    </tr>\n",
       "    <tr>\n",
       "      <th>1769498</th>\n",
       "      <td>375397</td>\n",
       "      <td>2016-05-28</td>\n",
       "      <td>ind_viv_fin_ult1</td>\n",
       "      <td>1</td>\n",
       "    </tr>\n",
       "    <tr>\n",
       "      <th>1769717</th>\n",
       "      <td>418412</td>\n",
       "      <td>2016-05-28</td>\n",
       "      <td>ind_viv_fin_ult1</td>\n",
       "      <td>1</td>\n",
       "    </tr>\n",
       "    <tr>\n",
       "      <th>1770389</th>\n",
       "      <td>582638</td>\n",
       "      <td>2016-05-28</td>\n",
       "      <td>ind_viv_fin_ult1</td>\n",
       "      <td>1</td>\n",
       "    </tr>\n",
       "    <tr>\n",
       "      <th>1770691</th>\n",
       "      <td>711210</td>\n",
       "      <td>2016-05-28</td>\n",
       "      <td>ind_viv_fin_ult1</td>\n",
       "      <td>1</td>\n",
       "    </tr>\n",
       "  </tbody>\n",
       "</table>\n",
       "<p>37894 rows × 4 columns</p>\n",
       "</div>"
      ],
      "text/plain": [
       "         ncodpers  fecha_dato            product  added\n",
       "34         194160  2016-05-28  ind_ahor_fin_ult1      1\n",
       "479         16857  2016-05-28   ind_cco_fin_ult1      1\n",
       "660         17458  2016-05-28   ind_cco_fin_ult1      1\n",
       "858         18072  2016-05-28   ind_cco_fin_ult1      1\n",
       "911         18231  2016-05-28   ind_cco_fin_ult1      1\n",
       "...           ...         ...                ...    ...\n",
       "1769309    324180  2016-05-28   ind_viv_fin_ult1      1\n",
       "1769498    375397  2016-05-28   ind_viv_fin_ult1      1\n",
       "1769717    418412  2016-05-28   ind_viv_fin_ult1      1\n",
       "1770389    582638  2016-05-28   ind_viv_fin_ult1      1\n",
       "1770691    711210  2016-05-28   ind_viv_fin_ult1      1\n",
       "\n",
       "[37894 rows x 4 columns]"
      ]
     },
     "execution_count": 29,
     "metadata": {},
     "output_type": "execute_result"
    }
   ],
   "source": [
    "test_inter"
   ]
  },
  {
   "cell_type": "markdown",
   "id": "9f5eced6",
   "metadata": {},
   "source": [
    "#### Train the model using KNNBasic model"
   ]
  },
  {
   "cell_type": "code",
   "execution_count": 30,
   "id": "c1143814",
   "metadata": {},
   "outputs": [
    {
     "name": "stdout",
     "output_type": "stream",
     "text": [
      "Computing the cosine similarity matrix...\n",
      "Done computing similarity matrix.\n"
     ]
    },
    {
     "data": {
      "text/plain": [
       "<surprise.prediction_algorithms.knns.KNNBasic at 0x11e0a42b0>"
      ]
     },
     "execution_count": 30,
     "metadata": {},
     "output_type": "execute_result"
    }
   ],
   "source": [
    "from surprise import KNNBasic\n",
    "\n",
    "reader = Reader(rating_scale=(0, 1))\n",
    "data = Dataset.load_from_df(train_inter.assign(added=1)[['ncodpers','product','added']], reader)\n",
    "trainset = data.build_full_trainset()\n",
    "\n",
    "sim_options = {'name': 'cosine', 'user_based': False}  # item-based is memory-friendlier\n",
    "model = KNNBasic(k=40, sim_options=sim_options)\n",
    "model.fit(trainset)\n"
   ]
  },
  {
   "cell_type": "markdown",
   "id": "a451d4d2",
   "metadata": {},
   "source": [
    "#### Building helper set to not recommend products a user already owned before the test month."
   ]
  },
  {
   "cell_type": "code",
   "execution_count": null,
   "id": "f4fd36f8",
   "metadata": {},
   "outputs": [],
   "source": [
    "# Products user had before test month (to filter out)\n",
    "owned_before = (\n",
    "    train_inter.groupby('ncodpers')['product']\n",
    "    .apply(set)\n",
    "    .to_dict()\n",
    ")\n",
    "\n",
    "# All candidate products from your universe (e.g., 24 products)\n",
    "all_products = sorted(train_inter['product'].unique().tolist())"
   ]
  },
  {
   "cell_type": "markdown",
   "id": "c9251ce4",
   "metadata": {},
   "source": [
    "#### Testing the prediction using MAP@7 metric on training set"
   ]
  },
  {
   "cell_type": "code",
   "execution_count": null,
   "id": "fd121599",
   "metadata": {},
   "outputs": [],
   "source": [
    "def topk_for_user(raw_uid, k=7):\n",
    "    # products to consider\n",
    "    already = owned_before.get(raw_uid, set())\n",
    "    candidates = [p for p in all_products if p not in already]\n",
    "\n",
    "    scored = []\n",
    "    for raw_iid in candidates:\n",
    "        try:\n",
    "            # Surprise needs raw ids; it will map internally\n",
    "            est = model.predict(str(raw_uid), str(raw_iid), clip=False).est\n",
    "            scored.append((raw_iid, est))\n",
    "        except Exception:\n",
    "            # unknown user/item -> skip (or give small default score)\n",
    "            continue\n",
    "\n",
    "    scored.sort(key=lambda x: x[1], reverse=True)\n",
    "    return [iid for iid, _ in scored[:k]]"
   ]
  },
  {
   "cell_type": "code",
   "execution_count": null,
   "id": "c02e0e8f",
   "metadata": {},
   "outputs": [],
   "source": [
    "test_users = test_inter['ncodpers'].unique().tolist()\n",
    "\n",
    "pred_rows = []\n",
    "for u in test_users:\n",
    "    top7 = topk_for_user(u, k=7)\n",
    "    pred_rows.append((u, ' '.join(top7)))\n",
    "\n",
    "baseline_preds = pd.DataFrame(pred_rows, columns=['ncodpers', 'prediction'])"
   ]
  },
  {
   "cell_type": "code",
   "execution_count": 34,
   "id": "b7b5eef8",
   "metadata": {},
   "outputs": [
    {
     "data": {
      "text/html": [
       "<div>\n",
       "<style scoped>\n",
       "    .dataframe tbody tr th:only-of-type {\n",
       "        vertical-align: middle;\n",
       "    }\n",
       "\n",
       "    .dataframe tbody tr th {\n",
       "        vertical-align: top;\n",
       "    }\n",
       "\n",
       "    .dataframe thead th {\n",
       "        text-align: right;\n",
       "    }\n",
       "</style>\n",
       "<table border=\"1\" class=\"dataframe\">\n",
       "  <thead>\n",
       "    <tr style=\"text-align: right;\">\n",
       "      <th></th>\n",
       "      <th>ncodpers</th>\n",
       "      <th>prediction</th>\n",
       "    </tr>\n",
       "  </thead>\n",
       "  <tbody>\n",
       "    <tr>\n",
       "      <th>0</th>\n",
       "      <td>194160</td>\n",
       "      <td>ind_aval_fin_ult1 ind_cder_fin_ult1 ind_ctju_f...</td>\n",
       "    </tr>\n",
       "    <tr>\n",
       "      <th>1</th>\n",
       "      <td>16857</td>\n",
       "      <td>ind_ahor_fin_ult1 ind_aval_fin_ult1 ind_cder_f...</td>\n",
       "    </tr>\n",
       "    <tr>\n",
       "      <th>2</th>\n",
       "      <td>17458</td>\n",
       "      <td>ind_ahor_fin_ult1 ind_aval_fin_ult1 ind_cder_f...</td>\n",
       "    </tr>\n",
       "    <tr>\n",
       "      <th>3</th>\n",
       "      <td>18072</td>\n",
       "      <td>ind_ahor_fin_ult1 ind_aval_fin_ult1 ind_cder_f...</td>\n",
       "    </tr>\n",
       "    <tr>\n",
       "      <th>4</th>\n",
       "      <td>18231</td>\n",
       "      <td>ind_ahor_fin_ult1 ind_aval_fin_ult1 ind_cder_f...</td>\n",
       "    </tr>\n",
       "    <tr>\n",
       "      <th>...</th>\n",
       "      <td>...</td>\n",
       "      <td>...</td>\n",
       "    </tr>\n",
       "    <tr>\n",
       "      <th>29709</th>\n",
       "      <td>1544736</td>\n",
       "      <td>ind_ahor_fin_ult1 ind_aval_fin_ult1 ind_cco_fi...</td>\n",
       "    </tr>\n",
       "    <tr>\n",
       "      <th>29710</th>\n",
       "      <td>1545426</td>\n",
       "      <td>ind_ahor_fin_ult1 ind_aval_fin_ult1 ind_cder_f...</td>\n",
       "    </tr>\n",
       "    <tr>\n",
       "      <th>29711</th>\n",
       "      <td>277945</td>\n",
       "      <td>ind_ahor_fin_ult1 ind_aval_fin_ult1 ind_cder_f...</td>\n",
       "    </tr>\n",
       "    <tr>\n",
       "      <th>29712</th>\n",
       "      <td>418412</td>\n",
       "      <td>ind_ahor_fin_ult1 ind_aval_fin_ult1 ind_cco_fi...</td>\n",
       "    </tr>\n",
       "    <tr>\n",
       "      <th>29713</th>\n",
       "      <td>582638</td>\n",
       "      <td>ind_ahor_fin_ult1 ind_aval_fin_ult1 ind_cco_fi...</td>\n",
       "    </tr>\n",
       "  </tbody>\n",
       "</table>\n",
       "<p>29714 rows × 2 columns</p>\n",
       "</div>"
      ],
      "text/plain": [
       "       ncodpers                                         prediction\n",
       "0        194160  ind_aval_fin_ult1 ind_cder_fin_ult1 ind_ctju_f...\n",
       "1         16857  ind_ahor_fin_ult1 ind_aval_fin_ult1 ind_cder_f...\n",
       "2         17458  ind_ahor_fin_ult1 ind_aval_fin_ult1 ind_cder_f...\n",
       "3         18072  ind_ahor_fin_ult1 ind_aval_fin_ult1 ind_cder_f...\n",
       "4         18231  ind_ahor_fin_ult1 ind_aval_fin_ult1 ind_cder_f...\n",
       "...         ...                                                ...\n",
       "29709   1544736  ind_ahor_fin_ult1 ind_aval_fin_ult1 ind_cco_fi...\n",
       "29710   1545426  ind_ahor_fin_ult1 ind_aval_fin_ult1 ind_cder_f...\n",
       "29711    277945  ind_ahor_fin_ult1 ind_aval_fin_ult1 ind_cder_f...\n",
       "29712    418412  ind_ahor_fin_ult1 ind_aval_fin_ult1 ind_cco_fi...\n",
       "29713    582638  ind_ahor_fin_ult1 ind_aval_fin_ult1 ind_cco_fi...\n",
       "\n",
       "[29714 rows x 2 columns]"
      ]
     },
     "execution_count": 34,
     "metadata": {},
     "output_type": "execute_result"
    }
   ],
   "source": [
    "baseline_preds"
   ]
  },
  {
   "cell_type": "code",
   "execution_count": null,
   "id": "be3a6963",
   "metadata": {},
   "outputs": [
    {
     "name": "stdout",
     "output_type": "stream",
     "text": [
      "MAP@7 = 0.0460\n"
     ]
    }
   ],
   "source": [
    "# ground truth: list of actually added products in test month per user\n",
    "truth_map = (\n",
    "    test_inter.groupby('ncodpers')['product']\n",
    "    .apply(list)\n",
    "    .to_dict()\n",
    ")\n",
    "\n",
    "# align to the exact user order in baseline_preds\n",
    "truth = [truth_map.get(u, []) for u in baseline_preds['ncodpers']]\n",
    "\n",
    "\n",
    "def apk(actual, predicted, k=7):\n",
    "    predicted = predicted[:k]\n",
    "    if not actual:\n",
    "        return 0.0\n",
    "    score = 0.0\n",
    "    num_hits = 0.0\n",
    "    for i, p in enumerate(predicted):\n",
    "        if p in actual and p not in predicted[:i]:\n",
    "            num_hits += 1.0\n",
    "            score += num_hits / (i + 1.0)\n",
    "    return score / min(len(actual), k)\n",
    "\n",
    "def mapk(actual_list, predicted_list, k=7):\n",
    "    preds = [s.split() for s in predicted_list]\n",
    "    return np.mean([apk(a, p, k) for a, p in zip(actual_list, preds)])\n",
    "\n",
    "map7 = mapk(truth, baseline_preds['prediction'].tolist(), k=7)\n",
    "print(f\"MAP@7 = {map7:.4f}\")"
   ]
  },
  {
   "cell_type": "code",
   "execution_count": null,
   "id": "62af03ee",
   "metadata": {},
   "outputs": [],
   "source": []
  },
  {
   "cell_type": "markdown",
   "id": "d84af767",
   "metadata": {},
   "source": [
    "#### Creating predictions on Kaggle Test Set"
   ]
  },
  {
   "cell_type": "code",
   "execution_count": null,
   "id": "4caa697b",
   "metadata": {},
   "outputs": [
    {
     "name": "stderr",
     "output_type": "stream",
     "text": [
      "/var/folders/jl/5_rcdjz121v7rnhqrmsz6df80000gn/T/ipykernel_70229/1728141540.py:1: DtypeWarning: Columns (15) have mixed types. Specify dtype option on import or set low_memory=False.\n",
      "  df_test = pd.read_csv('data/test_ver2.csv')\n"
     ]
    }
   ],
   "source": [
    "df_test = pd.read_csv('data/test_ver2.csv')\n",
    "test_users = df_test['ncodpers'].unique().tolist()\n",
    "\n",
    "pred_rows = []\n",
    "for u in test_users:\n",
    "    top7 = topk_for_user(u, k=7)\n",
    "    pred_rows.append((u, ' '.join(top7)))\n",
    "\n",
    "baseline_preds_kaggle = pd.DataFrame(pred_rows, columns=['ncodpers', 'added_products'])"
   ]
  },
  {
   "cell_type": "code",
   "execution_count": 38,
   "id": "8bc97949",
   "metadata": {},
   "outputs": [],
   "source": [
    "baseline_preds_kaggle.to_csv('data/kaggle_collaborative_filtering_submission.csv', index=False)"
   ]
  },
  {
   "cell_type": "markdown",
   "id": "49d53c7d",
   "metadata": {},
   "source": [
    "### Advanced Models"
   ]
  },
  {
   "cell_type": "markdown",
   "id": "f6ec3835",
   "metadata": {},
   "source": []
  }
 ],
 "metadata": {
  "kernelspec": {
   "display_name": "base",
   "language": "python",
   "name": "python3"
  },
  "language_info": {
   "codemirror_mode": {
    "name": "ipython",
    "version": 3
   },
   "file_extension": ".py",
   "mimetype": "text/x-python",
   "name": "python",
   "nbconvert_exporter": "python",
   "pygments_lexer": "ipython3",
   "version": "3.8.13"
  }
 },
 "nbformat": 4,
 "nbformat_minor": 5
}
